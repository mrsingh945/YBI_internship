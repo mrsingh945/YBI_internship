{
  "cells": [
    {
      "cell_type": "markdown",
      "metadata": {
        "id": "view-in-github",
        "colab_type": "text"
      },
      "source": [
        "<a href=\"https://colab.research.google.com/github/mrsingh945/YBI_internship/blob/main/IntershipProject.ipynb\" target=\"_parent\"><img src=\"https://colab.research.google.com/assets/colab-badge.svg\" alt=\"Open In Colab\"/></a>"
      ]
    },
    {
      "cell_type": "markdown",
      "metadata": {
        "id": "PQ2JLuwLjIA_"
      },
      "source": [
        "# **`BANK CUSTOMER CHURN MODEL`**"
      ]
    },
    {
      "cell_type": "markdown",
      "metadata": {
        "id": "duKcpJ7ijRa3"
      },
      "source": [
        "## **`Objective`**"
      ]
    },
    {
      "cell_type": "markdown",
      "metadata": {
        "id": "UQVXVLLYj8kb"
      },
      "source": [
        "# 1. Data Encoding\n",
        "# 2. Feature Scaling\n",
        "# 3. Handling Imbalance Data\n",
        "# * Random Under Sampling\n",
        "# * Random Over Sampling\n",
        "# 4. Support Vector Machine Classifier\n",
        "# 5. Grid Search for Hyperparameter Tunning\n",
        "\n",
        "\n",
        "\n",
        "\n",
        "\n"
      ]
    },
    {
      "cell_type": "markdown",
      "metadata": {
        "id": "h3biLgNGlqVD"
      },
      "source": [
        "## `Import Library`"
      ]
    },
    {
      "cell_type": "code",
      "execution_count": null,
      "metadata": {
        "id": "mPFtwbRHmTT6"
      },
      "outputs": [],
      "source": [
        "import pandas as pd"
      ]
    },
    {
      "cell_type": "code",
      "execution_count": null,
      "metadata": {
        "id": "Il-eYl4WnJU_"
      },
      "outputs": [],
      "source": [
        "import numpy as np"
      ]
    },
    {
      "cell_type": "code",
      "execution_count": null,
      "metadata": {
        "id": "95yVfVyinMQV"
      },
      "outputs": [],
      "source": [
        "import matplotlib.pyplot as plt"
      ]
    },
    {
      "cell_type": "code",
      "execution_count": null,
      "metadata": {
        "id": "xTMW2yxhnfTL"
      },
      "outputs": [],
      "source": [
        "import seaborn as sns"
      ]
    },
    {
      "cell_type": "markdown",
      "metadata": {
        "id": "Sbyd6j8qntdR"
      },
      "source": [
        "## `Import Data`"
      ]
    },
    {
      "cell_type": "code",
      "execution_count": null,
      "metadata": {
        "id": "exMjgz-nn33B"
      },
      "outputs": [],
      "source": [
        "df=pd.read_csv('https://github.com/YBI-Foundation/Dataset/raw/main/Bank%20Churn%20Modelling.csv')"
      ]
    },
    {
      "cell_type": "markdown",
      "metadata": {
        "id": "H9cqjRPMosgY"
      },
      "source": [
        "## `Analyse Data`"
      ]
    },
    {
      "cell_type": "code",
      "execution_count": null,
      "metadata": {
        "colab": {
          "base_uri": "https://localhost:8080/",
          "height": 261
        },
        "id": "AAyTcK5wo7fL",
        "outputId": "632653e0-02ad-4249-d09f-beeda5df04a1"
      },
      "outputs": [
        {
          "data": {
            "text/html": [
              "\n",
              "  <div id=\"df-4dcf3bf7-3267-4587-afd7-534a91c4c155\" class=\"colab-df-container\">\n",
              "    <div>\n",
              "<style scoped>\n",
              "    .dataframe tbody tr th:only-of-type {\n",
              "        vertical-align: middle;\n",
              "    }\n",
              "\n",
              "    .dataframe tbody tr th {\n",
              "        vertical-align: top;\n",
              "    }\n",
              "\n",
              "    .dataframe thead th {\n",
              "        text-align: right;\n",
              "    }\n",
              "</style>\n",
              "<table border=\"1\" class=\"dataframe\">\n",
              "  <thead>\n",
              "    <tr style=\"text-align: right;\">\n",
              "      <th></th>\n",
              "      <th>CustomerId</th>\n",
              "      <th>Surname</th>\n",
              "      <th>CreditScore</th>\n",
              "      <th>Geography</th>\n",
              "      <th>Gender</th>\n",
              "      <th>Age</th>\n",
              "      <th>Tenure</th>\n",
              "      <th>Balance</th>\n",
              "      <th>Num Of Products</th>\n",
              "      <th>Has Credit Card</th>\n",
              "      <th>Is Active Member</th>\n",
              "      <th>Estimated Salary</th>\n",
              "      <th>Churn</th>\n",
              "    </tr>\n",
              "  </thead>\n",
              "  <tbody>\n",
              "    <tr>\n",
              "      <th>0</th>\n",
              "      <td>15634602</td>\n",
              "      <td>Hargrave</td>\n",
              "      <td>619</td>\n",
              "      <td>France</td>\n",
              "      <td>Female</td>\n",
              "      <td>42</td>\n",
              "      <td>2</td>\n",
              "      <td>0.00</td>\n",
              "      <td>1</td>\n",
              "      <td>1</td>\n",
              "      <td>1</td>\n",
              "      <td>101348.88</td>\n",
              "      <td>1</td>\n",
              "    </tr>\n",
              "    <tr>\n",
              "      <th>1</th>\n",
              "      <td>15647311</td>\n",
              "      <td>Hill</td>\n",
              "      <td>608</td>\n",
              "      <td>Spain</td>\n",
              "      <td>Female</td>\n",
              "      <td>41</td>\n",
              "      <td>1</td>\n",
              "      <td>83807.86</td>\n",
              "      <td>1</td>\n",
              "      <td>0</td>\n",
              "      <td>1</td>\n",
              "      <td>112542.58</td>\n",
              "      <td>0</td>\n",
              "    </tr>\n",
              "    <tr>\n",
              "      <th>2</th>\n",
              "      <td>15619304</td>\n",
              "      <td>Onio</td>\n",
              "      <td>502</td>\n",
              "      <td>France</td>\n",
              "      <td>Female</td>\n",
              "      <td>42</td>\n",
              "      <td>8</td>\n",
              "      <td>159660.80</td>\n",
              "      <td>3</td>\n",
              "      <td>1</td>\n",
              "      <td>0</td>\n",
              "      <td>113931.57</td>\n",
              "      <td>1</td>\n",
              "    </tr>\n",
              "    <tr>\n",
              "      <th>3</th>\n",
              "      <td>15701354</td>\n",
              "      <td>Boni</td>\n",
              "      <td>699</td>\n",
              "      <td>France</td>\n",
              "      <td>Female</td>\n",
              "      <td>39</td>\n",
              "      <td>1</td>\n",
              "      <td>0.00</td>\n",
              "      <td>2</td>\n",
              "      <td>0</td>\n",
              "      <td>0</td>\n",
              "      <td>93826.63</td>\n",
              "      <td>0</td>\n",
              "    </tr>\n",
              "    <tr>\n",
              "      <th>4</th>\n",
              "      <td>15737888</td>\n",
              "      <td>Mitchell</td>\n",
              "      <td>850</td>\n",
              "      <td>Spain</td>\n",
              "      <td>Female</td>\n",
              "      <td>43</td>\n",
              "      <td>2</td>\n",
              "      <td>125510.82</td>\n",
              "      <td>1</td>\n",
              "      <td>1</td>\n",
              "      <td>1</td>\n",
              "      <td>79084.10</td>\n",
              "      <td>0</td>\n",
              "    </tr>\n",
              "  </tbody>\n",
              "</table>\n",
              "</div>\n",
              "    <div class=\"colab-df-buttons\">\n",
              "\n",
              "  <div class=\"colab-df-container\">\n",
              "    <button class=\"colab-df-convert\" onclick=\"convertToInteractive('df-4dcf3bf7-3267-4587-afd7-534a91c4c155')\"\n",
              "            title=\"Convert this dataframe to an interactive table.\"\n",
              "            style=\"display:none;\">\n",
              "\n",
              "  <svg xmlns=\"http://www.w3.org/2000/svg\" height=\"24px\" viewBox=\"0 -960 960 960\">\n",
              "    <path d=\"M120-120v-720h720v720H120Zm60-500h600v-160H180v160Zm220 220h160v-160H400v160Zm0 220h160v-160H400v160ZM180-400h160v-160H180v160Zm440 0h160v-160H620v160ZM180-180h160v-160H180v160Zm440 0h160v-160H620v160Z\"/>\n",
              "  </svg>\n",
              "    </button>\n",
              "\n",
              "  <style>\n",
              "    .colab-df-container {\n",
              "      display:flex;\n",
              "      gap: 12px;\n",
              "    }\n",
              "\n",
              "    .colab-df-convert {\n",
              "      background-color: #E8F0FE;\n",
              "      border: none;\n",
              "      border-radius: 50%;\n",
              "      cursor: pointer;\n",
              "      display: none;\n",
              "      fill: #1967D2;\n",
              "      height: 32px;\n",
              "      padding: 0 0 0 0;\n",
              "      width: 32px;\n",
              "    }\n",
              "\n",
              "    .colab-df-convert:hover {\n",
              "      background-color: #E2EBFA;\n",
              "      box-shadow: 0px 1px 2px rgba(60, 64, 67, 0.3), 0px 1px 3px 1px rgba(60, 64, 67, 0.15);\n",
              "      fill: #174EA6;\n",
              "    }\n",
              "\n",
              "    .colab-df-buttons div {\n",
              "      margin-bottom: 4px;\n",
              "    }\n",
              "\n",
              "    [theme=dark] .colab-df-convert {\n",
              "      background-color: #3B4455;\n",
              "      fill: #D2E3FC;\n",
              "    }\n",
              "\n",
              "    [theme=dark] .colab-df-convert:hover {\n",
              "      background-color: #434B5C;\n",
              "      box-shadow: 0px 1px 3px 1px rgba(0, 0, 0, 0.15);\n",
              "      filter: drop-shadow(0px 1px 2px rgba(0, 0, 0, 0.3));\n",
              "      fill: #FFFFFF;\n",
              "    }\n",
              "  </style>\n",
              "\n",
              "    <script>\n",
              "      const buttonEl =\n",
              "        document.querySelector('#df-4dcf3bf7-3267-4587-afd7-534a91c4c155 button.colab-df-convert');\n",
              "      buttonEl.style.display =\n",
              "        google.colab.kernel.accessAllowed ? 'block' : 'none';\n",
              "\n",
              "      async function convertToInteractive(key) {\n",
              "        const element = document.querySelector('#df-4dcf3bf7-3267-4587-afd7-534a91c4c155');\n",
              "        const dataTable =\n",
              "          await google.colab.kernel.invokeFunction('convertToInteractive',\n",
              "                                                    [key], {});\n",
              "        if (!dataTable) return;\n",
              "\n",
              "        const docLinkHtml = 'Like what you see? Visit the ' +\n",
              "          '<a target=\"_blank\" href=https://colab.research.google.com/notebooks/data_table.ipynb>data table notebook</a>'\n",
              "          + ' to learn more about interactive tables.';\n",
              "        element.innerHTML = '';\n",
              "        dataTable['output_type'] = 'display_data';\n",
              "        await google.colab.output.renderOutput(dataTable, element);\n",
              "        const docLink = document.createElement('div');\n",
              "        docLink.innerHTML = docLinkHtml;\n",
              "        element.appendChild(docLink);\n",
              "      }\n",
              "    </script>\n",
              "  </div>\n",
              "\n",
              "\n",
              "<div id=\"df-ec5f0a1f-c1f8-4030-a7a1-1a5ba4eba08b\">\n",
              "  <button class=\"colab-df-quickchart\" onclick=\"quickchart('df-ec5f0a1f-c1f8-4030-a7a1-1a5ba4eba08b')\"\n",
              "            title=\"Suggest charts.\"\n",
              "            style=\"display:none;\">\n",
              "\n",
              "<svg xmlns=\"http://www.w3.org/2000/svg\" height=\"24px\"viewBox=\"0 0 24 24\"\n",
              "     width=\"24px\">\n",
              "    <g>\n",
              "        <path d=\"M19 3H5c-1.1 0-2 .9-2 2v14c0 1.1.9 2 2 2h14c1.1 0 2-.9 2-2V5c0-1.1-.9-2-2-2zM9 17H7v-7h2v7zm4 0h-2V7h2v10zm4 0h-2v-4h2v4z\"/>\n",
              "    </g>\n",
              "</svg>\n",
              "  </button>\n",
              "\n",
              "<style>\n",
              "  .colab-df-quickchart {\n",
              "      --bg-color: #E8F0FE;\n",
              "      --fill-color: #1967D2;\n",
              "      --hover-bg-color: #E2EBFA;\n",
              "      --hover-fill-color: #174EA6;\n",
              "      --disabled-fill-color: #AAA;\n",
              "      --disabled-bg-color: #DDD;\n",
              "  }\n",
              "\n",
              "  [theme=dark] .colab-df-quickchart {\n",
              "      --bg-color: #3B4455;\n",
              "      --fill-color: #D2E3FC;\n",
              "      --hover-bg-color: #434B5C;\n",
              "      --hover-fill-color: #FFFFFF;\n",
              "      --disabled-bg-color: #3B4455;\n",
              "      --disabled-fill-color: #666;\n",
              "  }\n",
              "\n",
              "  .colab-df-quickchart {\n",
              "    background-color: var(--bg-color);\n",
              "    border: none;\n",
              "    border-radius: 50%;\n",
              "    cursor: pointer;\n",
              "    display: none;\n",
              "    fill: var(--fill-color);\n",
              "    height: 32px;\n",
              "    padding: 0;\n",
              "    width: 32px;\n",
              "  }\n",
              "\n",
              "  .colab-df-quickchart:hover {\n",
              "    background-color: var(--hover-bg-color);\n",
              "    box-shadow: 0 1px 2px rgba(60, 64, 67, 0.3), 0 1px 3px 1px rgba(60, 64, 67, 0.15);\n",
              "    fill: var(--button-hover-fill-color);\n",
              "  }\n",
              "\n",
              "  .colab-df-quickchart-complete:disabled,\n",
              "  .colab-df-quickchart-complete:disabled:hover {\n",
              "    background-color: var(--disabled-bg-color);\n",
              "    fill: var(--disabled-fill-color);\n",
              "    box-shadow: none;\n",
              "  }\n",
              "\n",
              "  .colab-df-spinner {\n",
              "    border: 2px solid var(--fill-color);\n",
              "    border-color: transparent;\n",
              "    border-bottom-color: var(--fill-color);\n",
              "    animation:\n",
              "      spin 1s steps(1) infinite;\n",
              "  }\n",
              "\n",
              "  @keyframes spin {\n",
              "    0% {\n",
              "      border-color: transparent;\n",
              "      border-bottom-color: var(--fill-color);\n",
              "      border-left-color: var(--fill-color);\n",
              "    }\n",
              "    20% {\n",
              "      border-color: transparent;\n",
              "      border-left-color: var(--fill-color);\n",
              "      border-top-color: var(--fill-color);\n",
              "    }\n",
              "    30% {\n",
              "      border-color: transparent;\n",
              "      border-left-color: var(--fill-color);\n",
              "      border-top-color: var(--fill-color);\n",
              "      border-right-color: var(--fill-color);\n",
              "    }\n",
              "    40% {\n",
              "      border-color: transparent;\n",
              "      border-right-color: var(--fill-color);\n",
              "      border-top-color: var(--fill-color);\n",
              "    }\n",
              "    60% {\n",
              "      border-color: transparent;\n",
              "      border-right-color: var(--fill-color);\n",
              "    }\n",
              "    80% {\n",
              "      border-color: transparent;\n",
              "      border-right-color: var(--fill-color);\n",
              "      border-bottom-color: var(--fill-color);\n",
              "    }\n",
              "    90% {\n",
              "      border-color: transparent;\n",
              "      border-bottom-color: var(--fill-color);\n",
              "    }\n",
              "  }\n",
              "</style>\n",
              "\n",
              "  <script>\n",
              "    async function quickchart(key) {\n",
              "      const quickchartButtonEl =\n",
              "        document.querySelector('#' + key + ' button');\n",
              "      quickchartButtonEl.disabled = true;  // To prevent multiple clicks.\n",
              "      quickchartButtonEl.classList.add('colab-df-spinner');\n",
              "      try {\n",
              "        const charts = await google.colab.kernel.invokeFunction(\n",
              "            'suggestCharts', [key], {});\n",
              "      } catch (error) {\n",
              "        console.error('Error during call to suggestCharts:', error);\n",
              "      }\n",
              "      quickchartButtonEl.classList.remove('colab-df-spinner');\n",
              "      quickchartButtonEl.classList.add('colab-df-quickchart-complete');\n",
              "    }\n",
              "    (() => {\n",
              "      let quickchartButtonEl =\n",
              "        document.querySelector('#df-ec5f0a1f-c1f8-4030-a7a1-1a5ba4eba08b button');\n",
              "      quickchartButtonEl.style.display =\n",
              "        google.colab.kernel.accessAllowed ? 'block' : 'none';\n",
              "    })();\n",
              "  </script>\n",
              "</div>\n",
              "    </div>\n",
              "  </div>\n"
            ],
            "text/plain": [
              "   CustomerId   Surname  CreditScore Geography  Gender  Age  Tenure  \\\n",
              "0    15634602  Hargrave          619    France  Female   42       2   \n",
              "1    15647311      Hill          608     Spain  Female   41       1   \n",
              "2    15619304      Onio          502    France  Female   42       8   \n",
              "3    15701354      Boni          699    France  Female   39       1   \n",
              "4    15737888  Mitchell          850     Spain  Female   43       2   \n",
              "\n",
              "     Balance  Num Of Products  Has Credit Card  Is Active Member  \\\n",
              "0       0.00                1                1                 1   \n",
              "1   83807.86                1                0                 1   \n",
              "2  159660.80                3                1                 0   \n",
              "3       0.00                2                0                 0   \n",
              "4  125510.82                1                1                 1   \n",
              "\n",
              "   Estimated Salary  Churn  \n",
              "0         101348.88      1  \n",
              "1         112542.58      0  \n",
              "2         113931.57      1  \n",
              "3          93826.63      0  \n",
              "4          79084.10      0  "
            ]
          },
          "execution_count": 11,
          "metadata": {},
          "output_type": "execute_result"
        }
      ],
      "source": [
        "df.head()"
      ]
    },
    {
      "cell_type": "code",
      "execution_count": null,
      "metadata": {
        "colab": {
          "base_uri": "https://localhost:8080/"
        },
        "id": "uB12CHyIo94F",
        "outputId": "18871063-cee2-470e-e306-70f13e1b5d30"
      },
      "outputs": [
        {
          "name": "stdout",
          "output_type": "stream",
          "text": [
            "<class 'pandas.core.frame.DataFrame'>\n",
            "RangeIndex: 10000 entries, 0 to 9999\n",
            "Data columns (total 13 columns):\n",
            " #   Column            Non-Null Count  Dtype  \n",
            "---  ------            --------------  -----  \n",
            " 0   CustomerId        10000 non-null  int64  \n",
            " 1   Surname           10000 non-null  object \n",
            " 2   CreditScore       10000 non-null  int64  \n",
            " 3   Geography         10000 non-null  object \n",
            " 4   Gender            10000 non-null  object \n",
            " 5   Age               10000 non-null  int64  \n",
            " 6   Tenure            10000 non-null  int64  \n",
            " 7   Balance           10000 non-null  float64\n",
            " 8   Num Of Products   10000 non-null  int64  \n",
            " 9   Has Credit Card   10000 non-null  int64  \n",
            " 10  Is Active Member  10000 non-null  int64  \n",
            " 11  Estimated Salary  10000 non-null  float64\n",
            " 12  Churn             10000 non-null  int64  \n",
            "dtypes: float64(2), int64(8), object(3)\n",
            "memory usage: 1015.8+ KB\n"
          ]
        }
      ],
      "source": [
        "df.info()"
      ]
    },
    {
      "cell_type": "code",
      "execution_count": null,
      "metadata": {
        "colab": {
          "base_uri": "https://localhost:8080/"
        },
        "id": "RUCtGg-FpV2F",
        "outputId": "1afde677-859a-438e-bb36-c65bd8dbdd4b"
      },
      "outputs": [
        {
          "data": {
            "text/plain": [
              "0"
            ]
          },
          "execution_count": 13,
          "metadata": {},
          "output_type": "execute_result"
        }
      ],
      "source": [
        "df.duplicated('CustomerId').sum()"
      ]
    },
    {
      "cell_type": "code",
      "execution_count": null,
      "metadata": {
        "id": "Pk9LK-EwpWdP"
      },
      "outputs": [],
      "source": [
        "df=df.set_index('CustomerId')"
      ]
    },
    {
      "cell_type": "code",
      "execution_count": null,
      "metadata": {
        "colab": {
          "base_uri": "https://localhost:8080/"
        },
        "id": "eZiwMFZuptVe",
        "outputId": "a31f7d83-f02d-4b2c-c8ef-bc54ea71a950"
      },
      "outputs": [
        {
          "name": "stdout",
          "output_type": "stream",
          "text": [
            "<class 'pandas.core.frame.DataFrame'>\n",
            "Int64Index: 10000 entries, 15634602 to 15628319\n",
            "Data columns (total 12 columns):\n",
            " #   Column            Non-Null Count  Dtype  \n",
            "---  ------            --------------  -----  \n",
            " 0   Surname           10000 non-null  object \n",
            " 1   CreditScore       10000 non-null  int64  \n",
            " 2   Geography         10000 non-null  object \n",
            " 3   Gender            10000 non-null  object \n",
            " 4   Age               10000 non-null  int64  \n",
            " 5   Tenure            10000 non-null  int64  \n",
            " 6   Balance           10000 non-null  float64\n",
            " 7   Num Of Products   10000 non-null  int64  \n",
            " 8   Has Credit Card   10000 non-null  int64  \n",
            " 9   Is Active Member  10000 non-null  int64  \n",
            " 10  Estimated Salary  10000 non-null  float64\n",
            " 11  Churn             10000 non-null  int64  \n",
            "dtypes: float64(2), int64(7), object(3)\n",
            "memory usage: 1015.6+ KB\n"
          ]
        }
      ],
      "source": [
        "df.info()"
      ]
    },
    {
      "cell_type": "markdown",
      "metadata": {
        "id": "PVhXhbBDqHlg"
      },
      "source": [
        "## `Encoding`"
      ]
    },
    {
      "cell_type": "code",
      "execution_count": null,
      "metadata": {
        "colab": {
          "base_uri": "https://localhost:8080/"
        },
        "id": "5IdQozcoqVk-",
        "outputId": "b67b8cf0-8157-4e7c-c154-3c08edf79840"
      },
      "outputs": [
        {
          "data": {
            "text/plain": [
              "France     5014\n",
              "Germany    2509\n",
              "Spain      2477\n",
              "Name: Geography, dtype: int64"
            ]
          },
          "execution_count": 16,
          "metadata": {},
          "output_type": "execute_result"
        }
      ],
      "source": [
        "df['Geography'].value_counts()"
      ]
    },
    {
      "cell_type": "code",
      "execution_count": null,
      "metadata": {
        "id": "xPGdCsHgqaQM"
      },
      "outputs": [],
      "source": [
        "df.replace({'Geography': {'France':2, 'Germany':1,'Spain':0}},inplace=True)"
      ]
    },
    {
      "cell_type": "code",
      "execution_count": null,
      "metadata": {
        "colab": {
          "base_uri": "https://localhost:8080/"
        },
        "id": "ktB1rqZbrBPi",
        "outputId": "aaaf0c57-685e-4c69-ffd8-4ca6307633ec"
      },
      "outputs": [
        {
          "data": {
            "text/plain": [
              "Male      5457\n",
              "Female    4543\n",
              "Name: Gender, dtype: int64"
            ]
          },
          "execution_count": 18,
          "metadata": {},
          "output_type": "execute_result"
        }
      ],
      "source": [
        "df['Gender'].value_counts()"
      ]
    },
    {
      "cell_type": "code",
      "execution_count": null,
      "metadata": {
        "id": "YMBX_Kf_rJYw"
      },
      "outputs": [],
      "source": [
        "df.replace({'Gender':{'Male':0 , 'Female':1}},inplace=True)"
      ]
    },
    {
      "cell_type": "code",
      "execution_count": null,
      "metadata": {
        "colab": {
          "base_uri": "https://localhost:8080/"
        },
        "id": "skAQoJZZrVsm",
        "outputId": "43703d05-af1b-4c3d-982f-aa80bce013a5"
      },
      "outputs": [
        {
          "data": {
            "text/plain": [
              "1    5084\n",
              "2    4590\n",
              "3     266\n",
              "4      60\n",
              "Name: Num Of Products, dtype: int64"
            ]
          },
          "execution_count": 20,
          "metadata": {},
          "output_type": "execute_result"
        }
      ],
      "source": [
        "df['Num Of Products'].value_counts()"
      ]
    },
    {
      "cell_type": "code",
      "execution_count": null,
      "metadata": {
        "id": "S6Jz2TXGr9ha"
      },
      "outputs": [],
      "source": [
        "df.replace({'Num Of Products':{1:0,2:1,3:1,4:1}},inplace=True)"
      ]
    },
    {
      "cell_type": "code",
      "execution_count": null,
      "metadata": {
        "colab": {
          "base_uri": "https://localhost:8080/"
        },
        "id": "j0pVAZ09sM0D",
        "outputId": "0dfae51d-e350-48d4-a3c0-37c87cdf9f77"
      },
      "outputs": [
        {
          "data": {
            "text/plain": [
              "1    7055\n",
              "0    2945\n",
              "Name: Has Credit Card, dtype: int64"
            ]
          },
          "execution_count": 22,
          "metadata": {},
          "output_type": "execute_result"
        }
      ],
      "source": [
        "df['Has Credit Card'].value_counts()"
      ]
    },
    {
      "cell_type": "code",
      "execution_count": null,
      "metadata": {
        "colab": {
          "base_uri": "https://localhost:8080/"
        },
        "id": "k_qrJwRDslSr",
        "outputId": "65988d33-2b38-4402-83f9-d508fea92bce"
      },
      "outputs": [
        {
          "data": {
            "text/plain": [
              "1    5151\n",
              "0    4849\n",
              "Name: Is Active Member, dtype: int64"
            ]
          },
          "execution_count": 23,
          "metadata": {},
          "output_type": "execute_result"
        }
      ],
      "source": [
        "df['Is Active Member'].value_counts()"
      ]
    },
    {
      "cell_type": "code",
      "execution_count": null,
      "metadata": {
        "colab": {
          "base_uri": "https://localhost:8080/"
        },
        "id": "uNARYdLIstuf",
        "outputId": "03162f03-fe4d-41d4-d227-fee83829d06b"
      },
      "outputs": [
        {
          "data": {
            "text/plain": [
              "0    3117\n",
              "1     500\n",
              "Name: Churn, dtype: int64"
            ]
          },
          "execution_count": 24,
          "metadata": {},
          "output_type": "execute_result"
        }
      ],
      "source": [
        "df.loc[(df['Balance']==0),'Churn'].value_counts()"
      ]
    },
    {
      "cell_type": "code",
      "execution_count": null,
      "metadata": {
        "id": "id6p5F-ps5tD"
      },
      "outputs": [],
      "source": [
        "df['Zero Balance']=np.where(df['Balance']>0,1,0)"
      ]
    },
    {
      "cell_type": "code",
      "execution_count": null,
      "metadata": {
        "colab": {
          "base_uri": "https://localhost:8080/",
          "height": 447
        },
        "id": "xWgkuHoytEzW",
        "outputId": "03af5928-ee2b-42f3-9a63-a566847d51a6"
      },
      "outputs": [
        {
          "data": {
            "text/plain": [
              "<Axes: >"
            ]
          },
          "execution_count": 26,
          "metadata": {},
          "output_type": "execute_result"
        },
        {
          "data": {
            "image/png": "[encoded data removed]",
            "text/plain": [
              "<Figure size 640x480 with 1 Axes>"
            ]
          },
          "metadata": {},
          "output_type": "display_data"
        }
      ],
      "source": [
        "df['Zero Balance'].hist()"
      ]
    },
    {
      "cell_type": "code",
      "execution_count": null,
      "metadata": {
        "colab": {
          "base_uri": "https://localhost:8080/",
          "height": 323
        },
        "id": "_LzLfnvUtRf6",
        "outputId": "c29d7dab-90a5-4175-a8f0-09d935624fef"
      },
      "outputs": [
        {
          "data": {
            "text/html": [
              "\n",
              "  <div id=\"df-b5d14f15-9ca9-453f-9f06-4a556f2e4fca\" class=\"colab-df-container\">\n",
              "    <div>\n",
              "<style scoped>\n",
              "    .dataframe tbody tr th:only-of-type {\n",
              "        vertical-align: middle;\n",
              "    }\n",
              "\n",
              "    .dataframe tbody tr th {\n",
              "        vertical-align: top;\n",
              "    }\n",
              "\n",
              "    .dataframe thead th {\n",
              "        text-align: right;\n",
              "    }\n",
              "</style>\n",
              "<table border=\"1\" class=\"dataframe\">\n",
              "  <thead>\n",
              "    <tr style=\"text-align: right;\">\n",
              "      <th></th>\n",
              "      <th></th>\n",
              "      <th>Surname</th>\n",
              "      <th>CreditScore</th>\n",
              "      <th>Gender</th>\n",
              "      <th>Age</th>\n",
              "      <th>Tenure</th>\n",
              "      <th>Balance</th>\n",
              "      <th>Num Of Products</th>\n",
              "      <th>Has Credit Card</th>\n",
              "      <th>Is Active Member</th>\n",
              "      <th>Estimated Salary</th>\n",
              "      <th>Zero Balance</th>\n",
              "    </tr>\n",
              "    <tr>\n",
              "      <th>Churn</th>\n",
              "      <th>Geography</th>\n",
              "      <th></th>\n",
              "      <th></th>\n",
              "      <th></th>\n",
              "      <th></th>\n",
              "      <th></th>\n",
              "      <th></th>\n",
              "      <th></th>\n",
              "      <th></th>\n",
              "      <th></th>\n",
              "      <th></th>\n",
              "      <th></th>\n",
              "    </tr>\n",
              "  </thead>\n",
              "  <tbody>\n",
              "    <tr>\n",
              "      <th rowspan=\"3\" valign=\"top\">0</th>\n",
              "      <th>0</th>\n",
              "      <td>2064</td>\n",
              "      <td>2064</td>\n",
              "      <td>2064</td>\n",
              "      <td>2064</td>\n",
              "      <td>2064</td>\n",
              "      <td>2064</td>\n",
              "      <td>2064</td>\n",
              "      <td>2064</td>\n",
              "      <td>2064</td>\n",
              "      <td>2064</td>\n",
              "      <td>2064</td>\n",
              "    </tr>\n",
              "    <tr>\n",
              "      <th>1</th>\n",
              "      <td>1695</td>\n",
              "      <td>1695</td>\n",
              "      <td>1695</td>\n",
              "      <td>1695</td>\n",
              "      <td>1695</td>\n",
              "      <td>1695</td>\n",
              "      <td>1695</td>\n",
              "      <td>1695</td>\n",
              "      <td>1695</td>\n",
              "      <td>1695</td>\n",
              "      <td>1695</td>\n",
              "    </tr>\n",
              "    <tr>\n",
              "      <th>2</th>\n",
              "      <td>4204</td>\n",
              "      <td>4204</td>\n",
              "      <td>4204</td>\n",
              "      <td>4204</td>\n",
              "      <td>4204</td>\n",
              "      <td>4204</td>\n",
              "      <td>4204</td>\n",
              "      <td>4204</td>\n",
              "      <td>4204</td>\n",
              "      <td>4204</td>\n",
              "      <td>4204</td>\n",
              "    </tr>\n",
              "    <tr>\n",
              "      <th rowspan=\"3\" valign=\"top\">1</th>\n",
              "      <th>0</th>\n",
              "      <td>413</td>\n",
              "      <td>413</td>\n",
              "      <td>413</td>\n",
              "      <td>413</td>\n",
              "      <td>413</td>\n",
              "      <td>413</td>\n",
              "      <td>413</td>\n",
              "      <td>413</td>\n",
              "      <td>413</td>\n",
              "      <td>413</td>\n",
              "      <td>413</td>\n",
              "    </tr>\n",
              "    <tr>\n",
              "      <th>1</th>\n",
              "      <td>814</td>\n",
              "      <td>814</td>\n",
              "      <td>814</td>\n",
              "      <td>814</td>\n",
              "      <td>814</td>\n",
              "      <td>814</td>\n",
              "      <td>814</td>\n",
              "      <td>814</td>\n",
              "      <td>814</td>\n",
              "      <td>814</td>\n",
              "      <td>814</td>\n",
              "    </tr>\n",
              "    <tr>\n",
              "      <th>2</th>\n",
              "      <td>810</td>\n",
              "      <td>810</td>\n",
              "      <td>810</td>\n",
              "      <td>810</td>\n",
              "      <td>810</td>\n",
              "      <td>810</td>\n",
              "      <td>810</td>\n",
              "      <td>810</td>\n",
              "      <td>810</td>\n",
              "      <td>810</td>\n",
              "      <td>810</td>\n",
              "    </tr>\n",
              "  </tbody>\n",
              "</table>\n",
              "</div>\n",
              "    <div class=\"colab-df-buttons\">\n",
              "\n",
              "  <div class=\"colab-df-container\">\n",
              "    <button class=\"colab-df-convert\" onclick=\"convertToInteractive('df-b5d14f15-9ca9-453f-9f06-4a556f2e4fca')\"\n",
              "            title=\"Convert this dataframe to an interactive table.\"\n",
              "            style=\"display:none;\">\n",
              "\n",
              "  <svg xmlns=\"http://www.w3.org/2000/svg\" height=\"24px\" viewBox=\"0 -960 960 960\">\n",
              "    <path d=\"M120-120v-720h720v720H120Zm60-500h600v-160H180v160Zm220 220h160v-160H400v160Zm0 220h160v-160H400v160ZM180-400h160v-160H180v160Zm440 0h160v-160H620v160ZM180-180h160v-160H180v160Zm440 0h160v-160H620v160Z\"/>\n",
              "  </svg>\n",
              "    </button>\n",
              "\n",
              "  <style>\n",
              "    .colab-df-container {\n",
              "      display:flex;\n",
              "      gap: 12px;\n",
              "    }\n",
              "\n",
              "    .colab-df-convert {\n",
              "      background-color: #E8F0FE;\n",
              "      border: none;\n",
              "      border-radius: 50%;\n",
              "      cursor: pointer;\n",
              "      display: none;\n",
              "      fill: #1967D2;\n",
              "      height: 32px;\n",
              "      padding: 0 0 0 0;\n",
              "      width: 32px;\n",
              "    }\n",
              "\n",
              "    .colab-df-convert:hover {\n",
              "      background-color: #E2EBFA;\n",
              "      box-shadow: 0px 1px 2px rgba(60, 64, 67, 0.3), 0px 1px 3px 1px rgba(60, 64, 67, 0.15);\n",
              "      fill: #174EA6;\n",
              "    }\n",
              "\n",
              "    .colab-df-buttons div {\n",
              "      margin-bottom: 4px;\n",
              "    }\n",
              "\n",
              "    [theme=dark] .colab-df-convert {\n",
              "      background-color: #3B4455;\n",
              "      fill: #D2E3FC;\n",
              "    }\n",
              "\n",
              "    [theme=dark] .colab-df-convert:hover {\n",
              "      background-color: #434B5C;\n",
              "      box-shadow: 0px 1px 3px 1px rgba(0, 0, 0, 0.15);\n",
              "      filter: drop-shadow(0px 1px 2px rgba(0, 0, 0, 0.3));\n",
              "      fill: #FFFFFF;\n",
              "    }\n",
              "  </style>\n",
              "\n",
              "    <script>\n",
              "      const buttonEl =\n",
              "        document.querySelector('#df-b5d14f15-9ca9-453f-9f06-4a556f2e4fca button.colab-df-convert');\n",
              "      buttonEl.style.display =\n",
              "        google.colab.kernel.accessAllowed ? 'block' : 'none';\n",
              "\n",
              "      async function convertToInteractive(key) {\n",
              "        const element = document.querySelector('#df-b5d14f15-9ca9-453f-9f06-4a556f2e4fca');\n",
              "        const dataTable =\n",
              "          await google.colab.kernel.invokeFunction('convertToInteractive',\n",
              "                                                    [key], {});\n",
              "        if (!dataTable) return;\n",
              "\n",
              "        const docLinkHtml = 'Like what you see? Visit the ' +\n",
              "          '<a target=\"_blank\" href=https://colab.research.google.com/notebooks/data_table.ipynb>data table notebook</a>'\n",
              "          + ' to learn more about interactive tables.';\n",
              "        element.innerHTML = '';\n",
              "        dataTable['output_type'] = 'display_data';\n",
              "        await google.colab.output.renderOutput(dataTable, element);\n",
              "        const docLink = document.createElement('div');\n",
              "        docLink.innerHTML = docLinkHtml;\n",
              "        element.appendChild(docLink);\n",
              "      }\n",
              "    </script>\n",
              "  </div>\n",
              "\n",
              "\n",
              "<div id=\"df-3097d421-bbb9-4f51-a968-112cd2cf958b\">\n",
              "  <button class=\"colab-df-quickchart\" onclick=\"quickchart('df-3097d421-bbb9-4f51-a968-112cd2cf958b')\"\n",
              "            title=\"Suggest charts.\"\n",
              "            style=\"display:none;\">\n",
              "\n",
              "<svg xmlns=\"http://www.w3.org/2000/svg\" height=\"24px\"viewBox=\"0 0 24 24\"\n",
              "     width=\"24px\">\n",
              "    <g>\n",
              "        <path d=\"M19 3H5c-1.1 0-2 .9-2 2v14c0 1.1.9 2 2 2h14c1.1 0 2-.9 2-2V5c0-1.1-.9-2-2-2zM9 17H7v-7h2v7zm4 0h-2V7h2v10zm4 0h-2v-4h2v4z\"/>\n",
              "    </g>\n",
              "</svg>\n",
              "  </button>\n",
              "\n",
              "<style>\n",
              "  .colab-df-quickchart {\n",
              "      --bg-color: #E8F0FE;\n",
              "      --fill-color: #1967D2;\n",
              "      --hover-bg-color: #E2EBFA;\n",
              "      --hover-fill-color: #174EA6;\n",
              "      --disabled-fill-color: #AAA;\n",
              "      --disabled-bg-color: #DDD;\n",
              "  }\n",
              "\n",
              "  [theme=dark] .colab-df-quickchart {\n",
              "      --bg-color: #3B4455;\n",
              "      --fill-color: #D2E3FC;\n",
              "      --hover-bg-color: #434B5C;\n",
              "      --hover-fill-color: #FFFFFF;\n",
              "      --disabled-bg-color: #3B4455;\n",
              "      --disabled-fill-color: #666;\n",
              "  }\n",
              "\n",
              "  .colab-df-quickchart {\n",
              "    background-color: var(--bg-color);\n",
              "    border: none;\n",
              "    border-radius: 50%;\n",
              "    cursor: pointer;\n",
              "    display: none;\n",
              "    fill: var(--fill-color);\n",
              "    height: 32px;\n",
              "    padding: 0;\n",
              "    width: 32px;\n",
              "  }\n",
              "\n",
              "  .colab-df-quickchart:hover {\n",
              "    background-color: var(--hover-bg-color);\n",
              "    box-shadow: 0 1px 2px rgba(60, 64, 67, 0.3), 0 1px 3px 1px rgba(60, 64, 67, 0.15);\n",
              "    fill: var(--button-hover-fill-color);\n",
              "  }\n",
              "\n",
              "  .colab-df-quickchart-complete:disabled,\n",
              "  .colab-df-quickchart-complete:disabled:hover {\n",
              "    background-color: var(--disabled-bg-color);\n",
              "    fill: var(--disabled-fill-color);\n",
              "    box-shadow: none;\n",
              "  }\n",
              "\n",
              "  .colab-df-spinner {\n",
              "    border: 2px solid var(--fill-color);\n",
              "    border-color: transparent;\n",
              "    border-bottom-color: var(--fill-color);\n",
              "    animation:\n",
              "      spin 1s steps(1) infinite;\n",
              "  }\n",
              "\n",
              "  @keyframes spin {\n",
              "    0% {\n",
              "      border-color: transparent;\n",
              "      border-bottom-color: var(--fill-color);\n",
              "      border-left-color: var(--fill-color);\n",
              "    }\n",
              "    20% {\n",
              "      border-color: transparent;\n",
              "      border-left-color: var(--fill-color);\n",
              "      border-top-color: var(--fill-color);\n",
              "    }\n",
              "    30% {\n",
              "      border-color: transparent;\n",
              "      border-left-color: var(--fill-color);\n",
              "      border-top-color: var(--fill-color);\n",
              "      border-right-color: var(--fill-color);\n",
              "    }\n",
              "    40% {\n",
              "      border-color: transparent;\n",
              "      border-right-color: var(--fill-color);\n",
              "      border-top-color: var(--fill-color);\n",
              "    }\n",
              "    60% {\n",
              "      border-color: transparent;\n",
              "      border-right-color: var(--fill-color);\n",
              "    }\n",
              "    80% {\n",
              "      border-color: transparent;\n",
              "      border-right-color: var(--fill-color);\n",
              "      border-bottom-color: var(--fill-color);\n",
              "    }\n",
              "    90% {\n",
              "      border-color: transparent;\n",
              "      border-bottom-color: var(--fill-color);\n",
              "    }\n",
              "  }\n",
              "</style>\n",
              "\n",
              "  <script>\n",
              "    async function quickchart(key) {\n",
              "      const quickchartButtonEl =\n",
              "        document.querySelector('#' + key + ' button');\n",
              "      quickchartButtonEl.disabled = true;  // To prevent multiple clicks.\n",
              "      quickchartButtonEl.classList.add('colab-df-spinner');\n",
              "      try {\n",
              "        const charts = await google.colab.kernel.invokeFunction(\n",
              "            'suggestCharts', [key], {});\n",
              "      } catch (error) {\n",
              "        console.error('Error during call to suggestCharts:', error);\n",
              "      }\n",
              "      quickchartButtonEl.classList.remove('colab-df-spinner');\n",
              "      quickchartButtonEl.classList.add('colab-df-quickchart-complete');\n",
              "    }\n",
              "    (() => {\n",
              "      let quickchartButtonEl =\n",
              "        document.querySelector('#df-3097d421-bbb9-4f51-a968-112cd2cf958b button');\n",
              "      quickchartButtonEl.style.display =\n",
              "        google.colab.kernel.accessAllowed ? 'block' : 'none';\n",
              "    })();\n",
              "  </script>\n",
              "</div>\n",
              "    </div>\n",
              "  </div>\n"
            ],
            "text/plain": [
              "                 Surname  CreditScore  Gender   Age  Tenure  Balance  \\\n",
              "Churn Geography                                                        \n",
              "0     0             2064         2064    2064  2064    2064     2064   \n",
              "      1             1695         1695    1695  1695    1695     1695   \n",
              "      2             4204         4204    4204  4204    4204     4204   \n",
              "1     0              413          413     413   413     413      413   \n",
              "      1              814          814     814   814     814      814   \n",
              "      2              810          810     810   810     810      810   \n",
              "\n",
              "                 Num Of Products  Has Credit Card  Is Active Member  \\\n",
              "Churn Geography                                                       \n",
              "0     0                     2064             2064              2064   \n",
              "      1                     1695             1695              1695   \n",
              "      2                     4204             4204              4204   \n",
              "1     0                      413              413               413   \n",
              "      1                      814              814               814   \n",
              "      2                      810              810               810   \n",
              "\n",
              "                 Estimated Salary  Zero Balance  \n",
              "Churn Geography                                  \n",
              "0     0                      2064          2064  \n",
              "      1                      1695          1695  \n",
              "      2                      4204          4204  \n",
              "1     0                       413           413  \n",
              "      1                       814           814  \n",
              "      2                       810           810  "
            ]
          },
          "execution_count": 27,
          "metadata": {},
          "output_type": "execute_result"
        }
      ],
      "source": [
        "df.groupby(['Churn','Geography']).count()"
      ]
    },
    {
      "cell_type": "markdown",
      "metadata": {
        "id": "zvoXRFhXteJf"
      },
      "source": [
        "## `Define Label And Features`"
      ]
    },
    {
      "cell_type": "code",
      "execution_count": null,
      "metadata": {
        "colab": {
          "base_uri": "https://localhost:8080/"
        },
        "id": "p_cWToGFtkAE",
        "outputId": "2788548a-3f45-4bb7-cd2d-7f55f23f8fc8"
      },
      "outputs": [
        {
          "data": {
            "text/plain": [
              "Index(['Surname', 'CreditScore', 'Geography', 'Gender', 'Age', 'Tenure',\n",
              "       'Balance', 'Num Of Products', 'Has Credit Card', 'Is Active Member',\n",
              "       'Estimated Salary', 'Churn', 'Zero Balance'],\n",
              "      dtype='object')"
            ]
          },
          "execution_count": 28,
          "metadata": {},
          "output_type": "execute_result"
        }
      ],
      "source": [
        "df.columns"
      ]
    },
    {
      "cell_type": "code",
      "execution_count": null,
      "metadata": {
        "id": "GFADe2YKtn7t"
      },
      "outputs": [],
      "source": [
        "X=df.drop(['Surname','Churn'],axis=1)"
      ]
    },
    {
      "cell_type": "code",
      "execution_count": null,
      "metadata": {
        "id": "Z2rkZXaJtxNz"
      },
      "outputs": [],
      "source": [
        "y=df['Churn']"
      ]
    },
    {
      "cell_type": "code",
      "execution_count": null,
      "metadata": {
        "colab": {
          "base_uri": "https://localhost:8080/"
        },
        "id": "6fcGzd_0t2mn",
        "outputId": "8a185a07-ffdb-4c51-a3be-1df1b8667df9"
      },
      "outputs": [
        {
          "data": {
            "text/plain": [
              "((10000, 11), (10000,))"
            ]
          },
          "execution_count": 31,
          "metadata": {},
          "output_type": "execute_result"
        }
      ],
      "source": [
        "X.shape,y.shape"
      ]
    },
    {
      "cell_type": "markdown",
      "metadata": {
        "id": "nsbiwsvfuAzQ"
      },
      "source": [
        "## `Handling Imbalance Data`"
      ]
    },
    {
      "cell_type": "markdown",
      "metadata": {
        "id": "JujSOtVLuGuu"
      },
      "source": [
        "Class Imbalance is a common problem in machine learning, especially in classification problems\n",
        "as machine learning algorithms are designed to maximize accuracy and reduce errors. If the data\n",
        "set is imbalance then in such cases, just by predicting the majority class we get a pretty high\n",
        "accuracy, but fails to capture the minority class, which is most often the point of creating the model\n",
        "in the first place. like in\n",
        "1. Fraud detection\n",
        "2. Spam filtering\n",
        "3. Disease screening\n",
        "4. Online sales churn\n",
        "5. Advertising click-throughs"
      ]
    },
    {
      "cell_type": "markdown",
      "metadata": {
        "id": "JXJmiGVDvWxB"
      },
      "source": [
        "**Undersampling** can be defined as removing some observation of the majority class. This is done until the majority and minority class is balanced out.\n",
        "\n",
        "Undersampling can be a good choice when you have a ton of data -think millions of rows. But a  drawback to undersampling is that we are removing information that may be valuable.\n",
        "\n",
        " In under-sampling, the simplest technique involves removing random records from the majority\n",
        " class, which can cause loss of information.\n",
        "A drawback to consider when undersampling is that it can cause overfitting and poor\n",
        "generalization to your test set.\n",
        "\n",
        "\n",
        " **Oversampling** can de defined as adding more copies to the minority class. Oversampling can be a good choice when you don't have ton of data to work with.\n",
        "\n",
        "The simplest implementation of over-sampling is to duplicate random records from the minority class,which can cause overfiting\n",
        "\n",
        "![image.png](data:image/png;base64,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)\n",
        "\n"
      ]
    },
    {
      "cell_type": "code",
      "execution_count": null,
      "metadata": {
        "colab": {
          "base_uri": "https://localhost:8080/"
        },
        "id": "QUdtZrvzyJMg",
        "outputId": "b8aa6344-1cd9-4efc-d918-06191bd91a33"
      },
      "outputs": [
        {
          "data": {
            "text/plain": [
              "0    7963\n",
              "1    2037\n",
              "Name: Churn, dtype: int64"
            ]
          },
          "execution_count": 32,
          "metadata": {},
          "output_type": "execute_result"
        }
      ],
      "source": [
        "df['Churn'].value_counts()"
      ]
    },
    {
      "cell_type": "code",
      "execution_count": null,
      "metadata": {
        "colab": {
          "base_uri": "https://localhost:8080/",
          "height": 449
        },
        "id": "PqC18ubdyWcD",
        "outputId": "f01f2a13-f430-4792-9c93-56c2fa00b944"
      },
      "outputs": [
        {
          "data": {
            "image/png": "[encoded data removed]",
            "text/plain": [
              "<Figure size 640x480 with 1 Axes>"
            ]
          },
          "metadata": {},
          "output_type": "display_data"
        }
      ],
      "source": [
        "sns.countplot(x='Churn',data=df);"
      ]
    },
    {
      "cell_type": "code",
      "execution_count": null,
      "metadata": {
        "colab": {
          "base_uri": "https://localhost:8080/"
        },
        "id": "HWeep_pGyef_",
        "outputId": "e7eb42bb-5c21-4daf-b46f-32b45dfabb7c"
      },
      "outputs": [
        {
          "data": {
            "text/plain": [
              "((10000, 11), (10000,))"
            ]
          },
          "execution_count": 34,
          "metadata": {},
          "output_type": "execute_result"
        }
      ],
      "source": [
        "X.shape , y.shape"
      ]
    },
    {
      "cell_type": "markdown",
      "metadata": {
        "id": "K1GWOfegym9I"
      },
      "source": [
        "## **`Radom Under Sampling`**"
      ]
    },
    {
      "cell_type": "code",
      "execution_count": null,
      "metadata": {
        "id": "ySRjC_sjyuFz"
      },
      "outputs": [],
      "source": [
        "from imblearn.under_sampling import RandomUnderSampler"
      ]
    },
    {
      "cell_type": "code",
      "execution_count": null,
      "metadata": {
        "id": "QyZQxKPKy2gT"
      },
      "outputs": [],
      "source": [
        "rus= RandomUnderSampler(random_state=2529)"
      ]
    },
    {
      "cell_type": "code",
      "execution_count": null,
      "metadata": {
        "id": "mxtAECAMy9Nd"
      },
      "outputs": [],
      "source": [
        "X_rus, y_rus = rus.fit_resample(X,y)"
      ]
    },
    {
      "cell_type": "code",
      "execution_count": null,
      "metadata": {
        "colab": {
          "base_uri": "https://localhost:8080/"
        },
        "id": "dnyusc0azTso",
        "outputId": "2dc8666c-4064-48fa-fc76-d04b7108e4be"
      },
      "outputs": [
        {
          "data": {
            "text/plain": [
              "((4074, 11), (4074,), (10000, 11), (10000,))"
            ]
          },
          "execution_count": 38,
          "metadata": {},
          "output_type": "execute_result"
        }
      ],
      "source": [
        "X_rus.shape ,y_rus.shape , X.shape,y.shape"
      ]
    },
    {
      "cell_type": "code",
      "execution_count": null,
      "metadata": {
        "colab": {
          "base_uri": "https://localhost:8080/"
        },
        "id": "9aiUI9o0zbKg",
        "outputId": "9dfabfc9-c210-4a10-8ada-e7c83e94d5d9"
      },
      "outputs": [
        {
          "data": {
            "text/plain": [
              "0    7963\n",
              "1    2037\n",
              "Name: Churn, dtype: int64"
            ]
          },
          "execution_count": 39,
          "metadata": {},
          "output_type": "execute_result"
        }
      ],
      "source": [
        "y.value_counts()"
      ]
    },
    {
      "cell_type": "code",
      "execution_count": null,
      "metadata": {
        "colab": {
          "base_uri": "https://localhost:8080/"
        },
        "id": "niMPkZKSze-y",
        "outputId": "dde1e435-66e4-4911-d282-213917daa8b9"
      },
      "outputs": [
        {
          "data": {
            "text/plain": [
              "0    2037\n",
              "1    2037\n",
              "Name: Churn, dtype: int64"
            ]
          },
          "execution_count": 40,
          "metadata": {},
          "output_type": "execute_result"
        }
      ],
      "source": [
        "y_rus.value_counts()"
      ]
    },
    {
      "cell_type": "code",
      "execution_count": null,
      "metadata": {
        "colab": {
          "base_uri": "https://localhost:8080/",
          "height": 447
        },
        "id": "jwk0oxk_zoXE",
        "outputId": "9f69e3c2-3c12-4424-888b-75cf2bfe3d28"
      },
      "outputs": [
        {
          "data": {
            "text/plain": [
              "<Axes: ylabel='Frequency'>"
            ]
          },
          "execution_count": 41,
          "metadata": {},
          "output_type": "execute_result"
        },
        {
          "data": {
            "image/png": "[encoded data removed]",
            "text/plain": [
              "<Figure size 640x480 with 1 Axes>"
            ]
          },
          "metadata": {},
          "output_type": "display_data"
        }
      ],
      "source": [
        "y_rus.plot(kind='hist')"
      ]
    },
    {
      "cell_type": "markdown",
      "metadata": {
        "id": "mn6e3Va5z0jY"
      },
      "source": [
        "## **`Random Over Sampling`**"
      ]
    },
    {
      "cell_type": "code",
      "execution_count": null,
      "metadata": {
        "id": "Lbg6ve9Rz7yq"
      },
      "outputs": [],
      "source": [
        "from imblearn.over_sampling import RandomOverSampler"
      ]
    },
    {
      "cell_type": "code",
      "execution_count": null,
      "metadata": {
        "id": "RKHsEOSf0Db-"
      },
      "outputs": [],
      "source": [
        "ros=RandomOverSampler(random_state=2529)"
      ]
    },
    {
      "cell_type": "code",
      "execution_count": null,
      "metadata": {
        "id": "PrVDAab-0JVM"
      },
      "outputs": [],
      "source": [
        "X_ros , y_ros =ros.fit_resample(X,y)"
      ]
    },
    {
      "cell_type": "code",
      "execution_count": null,
      "metadata": {
        "colab": {
          "base_uri": "https://localhost:8080/"
        },
        "id": "qI9bCxqi0Pve",
        "outputId": "0b0f4365-9f5b-46df-85d8-73451cdb98d6"
      },
      "outputs": [
        {
          "data": {
            "text/plain": [
              "((15926, 11), (15926,), (10000, 11), (10000,))"
            ]
          },
          "execution_count": 45,
          "metadata": {},
          "output_type": "execute_result"
        }
      ],
      "source": [
        "X_ros.shape ,y_ros.shape,X.shape,y.shape"
      ]
    },
    {
      "cell_type": "code",
      "execution_count": null,
      "metadata": {
        "colab": {
          "base_uri": "https://localhost:8080/"
        },
        "id": "mW4FvItQ0ZyK",
        "outputId": "d932c7be-a56f-42e3-9697-844cbad6bffb"
      },
      "outputs": [
        {
          "data": {
            "text/plain": [
              "0    7963\n",
              "1    2037\n",
              "Name: Churn, dtype: int64"
            ]
          },
          "execution_count": 46,
          "metadata": {},
          "output_type": "execute_result"
        }
      ],
      "source": [
        "y.value_counts()"
      ]
    },
    {
      "cell_type": "code",
      "execution_count": null,
      "metadata": {
        "colab": {
          "base_uri": "https://localhost:8080/",
          "height": 447
        },
        "id": "vACycbTt0dYs",
        "outputId": "3c9d6d3a-f729-4e0d-9967-664369c02fa9"
      },
      "outputs": [
        {
          "data": {
            "text/plain": [
              "<Axes: ylabel='Frequency'>"
            ]
          },
          "execution_count": 47,
          "metadata": {},
          "output_type": "execute_result"
        },
        {
          "data": {
            "image/png": "[encoded data removed]",
            "text/plain": [
              "<Figure size 640x480 with 1 Axes>"
            ]
          },
          "metadata": {},
          "output_type": "display_data"
        }
      ],
      "source": [
        "y_ros.plot(kind='hist')"
      ]
    },
    {
      "cell_type": "markdown",
      "metadata": {
        "id": "RIJNhYqb6O1g"
      },
      "source": [
        "## **`Train Test Split`**"
      ]
    },
    {
      "cell_type": "code",
      "execution_count": null,
      "metadata": {
        "id": "zPZUYTpm6VVy"
      },
      "outputs": [],
      "source": [
        "from sklearn.model_selection import train_test_split"
      ]
    },
    {
      "cell_type": "markdown",
      "metadata": {
        "id": "DW3MIH5V6dMS"
      },
      "source": [
        "### **Split Original Data**"
      ]
    },
    {
      "cell_type": "code",
      "execution_count": null,
      "metadata": {
        "id": "7RruuKka6hnI"
      },
      "outputs": [],
      "source": [
        "X_train,X_test,y_train,y_test=train_test_split(X,y,test_size=0.3,random_state=25)"
      ]
    },
    {
      "cell_type": "markdown",
      "metadata": {
        "id": "FSeDsla07U57"
      },
      "source": [
        "### **Split Random Under Sample Data**"
      ]
    },
    {
      "cell_type": "code",
      "execution_count": null,
      "metadata": {
        "id": "m3PSpi9x63gw"
      },
      "outputs": [],
      "source": [
        "X_train_rus,X_test_rus,y_train_rus,y_test_rus=train_test_split(X_rus,y_rus,test_size=0.3,random_state=25)"
      ]
    },
    {
      "cell_type": "markdown",
      "metadata": {
        "id": "hNYcbCxI7ema"
      },
      "source": [
        "### **Split Random Over Sample Data**"
      ]
    },
    {
      "cell_type": "code",
      "execution_count": null,
      "metadata": {
        "id": "2rB4ahlw7kIq"
      },
      "outputs": [],
      "source": [
        "X_train_ros,X_test_ros,y_train_ros,y_test_ros=train_test_split(X_ros,y_ros,test_size=0.3,random_state=25)"
      ]
    },
    {
      "cell_type": "markdown",
      "metadata": {
        "id": "EpV09ztU70qr"
      },
      "source": [
        "# **`Standadize Features`**"
      ]
    },
    {
      "cell_type": "code",
      "execution_count": null,
      "metadata": {
        "id": "r_aP4Ca179Jf"
      },
      "outputs": [],
      "source": [
        "from sklearn.preprocessing import StandardScaler"
      ]
    },
    {
      "cell_type": "code",
      "execution_count": null,
      "metadata": {
        "id": "NO0DjWqw8ey8"
      },
      "outputs": [],
      "source": [
        "sc=StandardScaler()"
      ]
    },
    {
      "cell_type": "markdown",
      "metadata": {
        "id": "rvYXlM4J8mE3"
      },
      "source": [
        "### **Standardize Original Data**"
      ]
    },
    {
      "cell_type": "code",
      "execution_count": null,
      "metadata": {
        "id": "Ct0NOkl68tXR"
      },
      "outputs": [],
      "source": [
        "X_train[['CreditScore','Age','Tenure','Balance','Estimated Salary']] = sc.fit_transform(X_train[['CreditScore','Age','Tenure','Balance','Estimated Salary']])"
      ]
    },
    {
      "cell_type": "code",
      "execution_count": null,
      "metadata": {
        "id": "OPvBzI5A9qAl"
      },
      "outputs": [],
      "source": [
        "X_test[['CreditScore','Age','Tenure','Balance','Estimated Salary']] = sc.fit_transform(X_test[['CreditScore','Age','Tenure','Balance','Estimated Salary']])"
      ]
    },
    {
      "cell_type": "markdown",
      "metadata": {
        "id": "mae9cW4X9ydn"
      },
      "source": [
        "### **Standardize Random Under Sample Data**"
      ]
    },
    {
      "cell_type": "code",
      "execution_count": null,
      "metadata": {
        "id": "j4rzXejm95_a"
      },
      "outputs": [],
      "source": [
        "X_train_rus[['CreditScore','Age','Tenure','Balance','Estimated Salary']] = sc.fit_transform(X_train_rus[['CreditScore','Age','Tenure','Balance','Estimated Salary']])"
      ]
    },
    {
      "cell_type": "code",
      "execution_count": null,
      "metadata": {
        "id": "8uYr3dPt-HNZ"
      },
      "outputs": [],
      "source": [
        "X_test_rus[['CreditScore','Age','Tenure','Balance','Estimated Salary']] = sc.fit_transform(X_test_rus[['CreditScore','Age','Tenure','Balance','Estimated Salary']])"
      ]
    },
    {
      "cell_type": "markdown",
      "metadata": {
        "id": "wfTaSwIW-UvP"
      },
      "source": [
        "### **Standardize Random Over Sample Data**"
      ]
    },
    {
      "cell_type": "code",
      "execution_count": null,
      "metadata": {
        "id": "fF9LhILh-Vlg"
      },
      "outputs": [],
      "source": [
        "X_train_ros[['CreditScore','Age','Tenure','Balance','Estimated Salary']] = sc.fit_transform(X_train_ros[['CreditScore','Age','Tenure','Balance','Estimated Salary']])"
      ]
    },
    {
      "cell_type": "code",
      "execution_count": null,
      "metadata": {
        "id": "fpYOj7fE-bcM"
      },
      "outputs": [],
      "source": [
        "X_test_ros[['CreditScore','Age','Tenure','Balance','Estimated Salary']] = sc.fit_transform(X_test_ros[['CreditScore','Age','Tenure','Balance','Estimated Salary']])"
      ]
    },
    {
      "cell_type": "markdown",
      "metadata": {
        "id": "A-FUw45S-nI3"
      },
      "source": [
        "# **`Support Vector Machine Classifier`**"
      ]
    },
    {
      "cell_type": "code",
      "execution_count": null,
      "metadata": {
        "id": "J21kC2sD-4oB"
      },
      "outputs": [],
      "source": [
        "from sklearn.svm import SVC"
      ]
    },
    {
      "cell_type": "code",
      "execution_count": null,
      "metadata": {
        "id": "hBTpMKrO_EAn"
      },
      "outputs": [],
      "source": [
        "svc = SVC()"
      ]
    },
    {
      "cell_type": "code",
      "execution_count": null,
      "metadata": {
        "id": "Pgx8wGAzdR3h",
        "colab": {
          "base_uri": "https://localhost:8080/",
          "height": 74
        },
        "outputId": "a80a8594-693c-4056-8727-ccee37e8403e"
      },
      "outputs": [
        {
          "output_type": "execute_result",
          "data": {
            "text/plain": [
              "SVC()"
            ],
            "text/html": [
              "<style>#sk-container-id-14 {color: black;background-color: white;}#sk-container-id-14 pre{padding: 0;}#sk-container-id-14 div.sk-toggleable {background-color: white;}#sk-container-id-14 label.sk-toggleable__label {cursor: pointer;display: block;width: 100%;margin-bottom: 0;padding: 0.3em;box-sizing: border-box;text-align: center;}#sk-container-id-14 label.sk-toggleable__label-arrow:before {content: \"▸\";float: left;margin-right: 0.25em;color: #696969;}#sk-container-id-14 label.sk-toggleable__label-arrow:hover:before {color: black;}#sk-container-id-14 div.sk-estimator:hover label.sk-toggleable__label-arrow:before {color: black;}#sk-container-id-14 div.sk-toggleable__content {max-height: 0;max-width: 0;overflow: hidden;text-align: left;background-color: #f0f8ff;}#sk-container-id-14 div.sk-toggleable__content pre {margin: 0.2em;color: black;border-radius: 0.25em;background-color: #f0f8ff;}#sk-container-id-14 input.sk-toggleable__control:checked~div.sk-toggleable__content {max-height: 200px;max-width: 100%;overflow: auto;}#sk-container-id-14 input.sk-toggleable__control:checked~label.sk-toggleable__label-arrow:before {content: \"▾\";}#sk-container-id-14 div.sk-estimator input.sk-toggleable__control:checked~label.sk-toggleable__label {background-color: #d4ebff;}#sk-container-id-14 div.sk-label input.sk-toggleable__control:checked~label.sk-toggleable__label {background-color: #d4ebff;}#sk-container-id-14 input.sk-hidden--visually {border: 0;clip: rect(1px 1px 1px 1px);clip: rect(1px, 1px, 1px, 1px);height: 1px;margin: -1px;overflow: hidden;padding: 0;position: absolute;width: 1px;}#sk-container-id-14 div.sk-estimator {font-family: monospace;background-color: #f0f8ff;border: 1px dotted black;border-radius: 0.25em;box-sizing: border-box;margin-bottom: 0.5em;}#sk-container-id-14 div.sk-estimator:hover {background-color: #d4ebff;}#sk-container-id-14 div.sk-parallel-item::after {content: \"\";width: 100%;border-bottom: 1px solid gray;flex-grow: 1;}#sk-container-id-14 div.sk-label:hover label.sk-toggleable__label {background-color: #d4ebff;}#sk-container-id-14 div.sk-serial::before {content: \"\";position: absolute;border-left: 1px solid gray;box-sizing: border-box;top: 0;bottom: 0;left: 50%;z-index: 0;}#sk-container-id-14 div.sk-serial {display: flex;flex-direction: column;align-items: center;background-color: white;padding-right: 0.2em;padding-left: 0.2em;position: relative;}#sk-container-id-14 div.sk-item {position: relative;z-index: 1;}#sk-container-id-14 div.sk-parallel {display: flex;align-items: stretch;justify-content: center;background-color: white;position: relative;}#sk-container-id-14 div.sk-item::before, #sk-container-id-14 div.sk-parallel-item::before {content: \"\";position: absolute;border-left: 1px solid gray;box-sizing: border-box;top: 0;bottom: 0;left: 50%;z-index: -1;}#sk-container-id-14 div.sk-parallel-item {display: flex;flex-direction: column;z-index: 1;position: relative;background-color: white;}#sk-container-id-14 div.sk-parallel-item:first-child::after {align-self: flex-end;width: 50%;}#sk-container-id-14 div.sk-parallel-item:last-child::after {align-self: flex-start;width: 50%;}#sk-container-id-14 div.sk-parallel-item:only-child::after {width: 0;}#sk-container-id-14 div.sk-dashed-wrapped {border: 1px dashed gray;margin: 0 0.4em 0.5em 0.4em;box-sizing: border-box;padding-bottom: 0.4em;background-color: white;}#sk-container-id-14 div.sk-label label {font-family: monospace;font-weight: bold;display: inline-block;line-height: 1.2em;}#sk-container-id-14 div.sk-label-container {text-align: center;}#sk-container-id-14 div.sk-container {/* jupyter's `normalize.less` sets `[hidden] { display: none; }` but bootstrap.min.css set `[hidden] { display: none !important; }` so we also need the `!important` here to be able to override the default hidden behavior on the sphinx rendered scikit-learn.org. See: https://github.com/scikit-learn/scikit-learn/issues/21755 */display: inline-block !important;position: relative;}#sk-container-id-14 div.sk-text-repr-fallback {display: none;}</style><div id=\"sk-container-id-14\" class=\"sk-top-container\"><div class=\"sk-text-repr-fallback\"><pre>SVC()</pre><b>In a Jupyter environment, please rerun this cell to show the HTML representation or trust the notebook. <br />On GitHub, the HTML representation is unable to render, please try loading this page with nbviewer.org.</b></div><div class=\"sk-container\" hidden><div class=\"sk-item\"><div class=\"sk-estimator sk-toggleable\"><input class=\"sk-toggleable__control sk-hidden--visually\" id=\"sk-estimator-id-22\" type=\"checkbox\" checked><label for=\"sk-estimator-id-22\" class=\"sk-toggleable__label sk-toggleable__label-arrow\">SVC</label><div class=\"sk-toggleable__content\"><pre>SVC()</pre></div></div></div></div></div>"
            ]
          },
          "metadata": {},
          "execution_count": 160
        }
      ],
      "source": [
        "svc.fit(X_train,y_train)"
      ]
    },
    {
      "cell_type": "code",
      "source": [
        "y_pred=svc.predict(X_test)"
      ],
      "metadata": {
        "id": "H7JeklXFf-Vj"
      },
      "execution_count": null,
      "outputs": []
    },
    {
      "cell_type": "markdown",
      "source": [
        "## **`Model Accuracy`**"
      ],
      "metadata": {
        "id": "xOPzaNslg4Nn"
      }
    },
    {
      "cell_type": "code",
      "source": [
        "from sklearn.metrics import confusion_matrix, classification_report"
      ],
      "metadata": {
        "id": "48FGx0xPg9a3"
      },
      "execution_count": null,
      "outputs": []
    },
    {
      "cell_type": "code",
      "source": [
        "confusion_matrix(y_test, y_pred)"
      ],
      "metadata": {
        "colab": {
          "base_uri": "https://localhost:8080/"
        },
        "id": "GItnJJOShIWZ",
        "outputId": "b93d02c6-9edf-4f04-fe25-0e528fc18b56"
      },
      "execution_count": null,
      "outputs": [
        {
          "output_type": "execute_result",
          "data": {
            "text/plain": [
              "array([[2374,   45],\n",
              "       [ 421,  160]])"
            ]
          },
          "metadata": {},
          "execution_count": 163
        }
      ]
    },
    {
      "cell_type": "code",
      "source": [
        "print(classification_report(y_test, y_pred))"
      ],
      "metadata": {
        "colab": {
          "base_uri": "https://localhost:8080/"
        },
        "id": "y8FmYduQhIsS",
        "outputId": "dda589c1-4211-4a0c-c676-ed604133bcc1"
      },
      "execution_count": null,
      "outputs": [
        {
          "output_type": "stream",
          "name": "stdout",
          "text": [
            "              precision    recall  f1-score   support\n",
            "\n",
            "           0       0.85      0.98      0.91      2419\n",
            "           1       0.78      0.28      0.41       581\n",
            "\n",
            "    accuracy                           0.84      3000\n",
            "   macro avg       0.81      0.63      0.66      3000\n",
            "weighted avg       0.84      0.84      0.81      3000\n",
            "\n"
          ]
        }
      ]
    },
    {
      "cell_type": "markdown",
      "source": [
        "## **`Hyperparameter Tunning`**"
      ],
      "metadata": {
        "id": "rvujCUw7ir5Q"
      }
    },
    {
      "cell_type": "code",
      "source": [
        "from sklearn.model_selection import GridSearchCV"
      ],
      "metadata": {
        "id": "lM26_IulixqC"
      },
      "execution_count": null,
      "outputs": []
    },
    {
      "cell_type": "code",
      "source": [
        "param_grid = {'C': [0.1,1, 10],\n",
        "              'gamma': [1,0.1,0.01],\n",
        "             'kernel': ['rbf'],\n",
        "             'class_weight' : ['balanced']}"
      ],
      "metadata": {
        "id": "_FVZNiVwjBkg"
      },
      "execution_count": null,
      "outputs": []
    },
    {
      "cell_type": "code",
      "source": [
        "grid = GridSearchCV(SVC(),param_grid,refit=True,verbose=2, cv = 2)\n",
        "grid.fit(X_train,y_train)"
      ],
      "metadata": {
        "colab": {
          "base_uri": "https://localhost:8080/",
          "height": 446
        },
        "id": "FxRIVHd1jYDV",
        "outputId": "02a08102-9faa-4dc7-a640-97b1ded911f2"
      },
      "execution_count": null,
      "outputs": [
        {
          "output_type": "stream",
          "name": "stdout",
          "text": [
            "Fitting 2 folds for each of 9 candidates, totalling 18 fits\n",
            "[CV] END ..C=0.1, class_weight=balanced, gamma=1, kernel=rbf; total time=   0.9s\n",
            "[CV] END ..C=0.1, class_weight=balanced, gamma=1, kernel=rbf; total time=   0.9s\n",
            "[CV] END C=0.1, class_weight=balanced, gamma=0.1, kernel=rbf; total time=   0.6s\n",
            "[CV] END C=0.1, class_weight=balanced, gamma=0.1, kernel=rbf; total time=   0.6s\n",
            "[CV] END C=0.1, class_weight=balanced, gamma=0.01, kernel=rbf; total time=   0.7s\n",
            "[CV] END C=0.1, class_weight=balanced, gamma=0.01, kernel=rbf; total time=   0.7s\n",
            "[CV] END ....C=1, class_weight=balanced, gamma=1, kernel=rbf; total time=   0.8s\n",
            "[CV] END ....C=1, class_weight=balanced, gamma=1, kernel=rbf; total time=   0.8s\n",
            "[CV] END ..C=1, class_weight=balanced, gamma=0.1, kernel=rbf; total time=   0.6s\n",
            "[CV] END ..C=1, class_weight=balanced, gamma=0.1, kernel=rbf; total time=   0.6s\n",
            "[CV] END .C=1, class_weight=balanced, gamma=0.01, kernel=rbf; total time=   0.6s\n",
            "[CV] END .C=1, class_weight=balanced, gamma=0.01, kernel=rbf; total time=   0.8s\n",
            "[CV] END ...C=10, class_weight=balanced, gamma=1, kernel=rbf; total time=   1.3s\n",
            "[CV] END ...C=10, class_weight=balanced, gamma=1, kernel=rbf; total time=   0.8s\n",
            "[CV] END .C=10, class_weight=balanced, gamma=0.1, kernel=rbf; total time=   0.6s\n",
            "[CV] END .C=10, class_weight=balanced, gamma=0.1, kernel=rbf; total time=   0.6s\n",
            "[CV] END C=10, class_weight=balanced, gamma=0.01, kernel=rbf; total time=   0.6s\n",
            "[CV] END C=10, class_weight=balanced, gamma=0.01, kernel=rbf; total time=   0.6s\n"
          ]
        },
        {
          "output_type": "execute_result",
          "data": {
            "text/plain": [
              "GridSearchCV(cv=2, estimator=SVC(),\n",
              "             param_grid={'C': [0.1, 1, 10], 'class_weight': ['balanced'],\n",
              "                         'gamma': [1, 0.1, 0.01], 'kernel': ['rbf']},\n",
              "             verbose=2)"
            ],
            "text/html": [
              "<style>#sk-container-id-15 {color: black;background-color: white;}#sk-container-id-15 pre{padding: 0;}#sk-container-id-15 div.sk-toggleable {background-color: white;}#sk-container-id-15 label.sk-toggleable__label {cursor: pointer;display: block;width: 100%;margin-bottom: 0;padding: 0.3em;box-sizing: border-box;text-align: center;}#sk-container-id-15 label.sk-toggleable__label-arrow:before {content: \"▸\";float: left;margin-right: 0.25em;color: #696969;}#sk-container-id-15 label.sk-toggleable__label-arrow:hover:before {color: black;}#sk-container-id-15 div.sk-estimator:hover label.sk-toggleable__label-arrow:before {color: black;}#sk-container-id-15 div.sk-toggleable__content {max-height: 0;max-width: 0;overflow: hidden;text-align: left;background-color: #f0f8ff;}#sk-container-id-15 div.sk-toggleable__content pre {margin: 0.2em;color: black;border-radius: 0.25em;background-color: #f0f8ff;}#sk-container-id-15 input.sk-toggleable__control:checked~div.sk-toggleable__content {max-height: 200px;max-width: 100%;overflow: auto;}#sk-container-id-15 input.sk-toggleable__control:checked~label.sk-toggleable__label-arrow:before {content: \"▾\";}#sk-container-id-15 div.sk-estimator input.sk-toggleable__control:checked~label.sk-toggleable__label {background-color: #d4ebff;}#sk-container-id-15 div.sk-label input.sk-toggleable__control:checked~label.sk-toggleable__label {background-color: #d4ebff;}#sk-container-id-15 input.sk-hidden--visually {border: 0;clip: rect(1px 1px 1px 1px);clip: rect(1px, 1px, 1px, 1px);height: 1px;margin: -1px;overflow: hidden;padding: 0;position: absolute;width: 1px;}#sk-container-id-15 div.sk-estimator {font-family: monospace;background-color: #f0f8ff;border: 1px dotted black;border-radius: 0.25em;box-sizing: border-box;margin-bottom: 0.5em;}#sk-container-id-15 div.sk-estimator:hover {background-color: #d4ebff;}#sk-container-id-15 div.sk-parallel-item::after {content: \"\";width: 100%;border-bottom: 1px solid gray;flex-grow: 1;}#sk-container-id-15 div.sk-label:hover label.sk-toggleable__label {background-color: #d4ebff;}#sk-container-id-15 div.sk-serial::before {content: \"\";position: absolute;border-left: 1px solid gray;box-sizing: border-box;top: 0;bottom: 0;left: 50%;z-index: 0;}#sk-container-id-15 div.sk-serial {display: flex;flex-direction: column;align-items: center;background-color: white;padding-right: 0.2em;padding-left: 0.2em;position: relative;}#sk-container-id-15 div.sk-item {position: relative;z-index: 1;}#sk-container-id-15 div.sk-parallel {display: flex;align-items: stretch;justify-content: center;background-color: white;position: relative;}#sk-container-id-15 div.sk-item::before, #sk-container-id-15 div.sk-parallel-item::before {content: \"\";position: absolute;border-left: 1px solid gray;box-sizing: border-box;top: 0;bottom: 0;left: 50%;z-index: -1;}#sk-container-id-15 div.sk-parallel-item {display: flex;flex-direction: column;z-index: 1;position: relative;background-color: white;}#sk-container-id-15 div.sk-parallel-item:first-child::after {align-self: flex-end;width: 50%;}#sk-container-id-15 div.sk-parallel-item:last-child::after {align-self: flex-start;width: 50%;}#sk-container-id-15 div.sk-parallel-item:only-child::after {width: 0;}#sk-container-id-15 div.sk-dashed-wrapped {border: 1px dashed gray;margin: 0 0.4em 0.5em 0.4em;box-sizing: border-box;padding-bottom: 0.4em;background-color: white;}#sk-container-id-15 div.sk-label label {font-family: monospace;font-weight: bold;display: inline-block;line-height: 1.2em;}#sk-container-id-15 div.sk-label-container {text-align: center;}#sk-container-id-15 div.sk-container {/* jupyter's `normalize.less` sets `[hidden] { display: none; }` but bootstrap.min.css set `[hidden] { display: none !important; }` so we also need the `!important` here to be able to override the default hidden behavior on the sphinx rendered scikit-learn.org. See: https://github.com/scikit-learn/scikit-learn/issues/21755 */display: inline-block !important;position: relative;}#sk-container-id-15 div.sk-text-repr-fallback {display: none;}</style><div id=\"sk-container-id-15\" class=\"sk-top-container\"><div class=\"sk-text-repr-fallback\"><pre>GridSearchCV(cv=2, estimator=SVC(),\n",
              "             param_grid={&#x27;C&#x27;: [0.1, 1, 10], &#x27;class_weight&#x27;: [&#x27;balanced&#x27;],\n",
              "                         &#x27;gamma&#x27;: [1, 0.1, 0.01], &#x27;kernel&#x27;: [&#x27;rbf&#x27;]},\n",
              "             verbose=2)</pre><b>In a Jupyter environment, please rerun this cell to show the HTML representation or trust the notebook. <br />On GitHub, the HTML representation is unable to render, please try loading this page with nbviewer.org.</b></div><div class=\"sk-container\" hidden><div class=\"sk-item sk-dashed-wrapped\"><div class=\"sk-label-container\"><div class=\"sk-label sk-toggleable\"><input class=\"sk-toggleable__control sk-hidden--visually\" id=\"sk-estimator-id-23\" type=\"checkbox\" ><label for=\"sk-estimator-id-23\" class=\"sk-toggleable__label sk-toggleable__label-arrow\">GridSearchCV</label><div class=\"sk-toggleable__content\"><pre>GridSearchCV(cv=2, estimator=SVC(),\n",
              "             param_grid={&#x27;C&#x27;: [0.1, 1, 10], &#x27;class_weight&#x27;: [&#x27;balanced&#x27;],\n",
              "                         &#x27;gamma&#x27;: [1, 0.1, 0.01], &#x27;kernel&#x27;: [&#x27;rbf&#x27;]},\n",
              "             verbose=2)</pre></div></div></div><div class=\"sk-parallel\"><div class=\"sk-parallel-item\"><div class=\"sk-item\"><div class=\"sk-label-container\"><div class=\"sk-label sk-toggleable\"><input class=\"sk-toggleable__control sk-hidden--visually\" id=\"sk-estimator-id-24\" type=\"checkbox\" ><label for=\"sk-estimator-id-24\" class=\"sk-toggleable__label sk-toggleable__label-arrow\">estimator: SVC</label><div class=\"sk-toggleable__content\"><pre>SVC()</pre></div></div></div><div class=\"sk-serial\"><div class=\"sk-item\"><div class=\"sk-estimator sk-toggleable\"><input class=\"sk-toggleable__control sk-hidden--visually\" id=\"sk-estimator-id-25\" type=\"checkbox\" ><label for=\"sk-estimator-id-25\" class=\"sk-toggleable__label sk-toggleable__label-arrow\">SVC</label><div class=\"sk-toggleable__content\"><pre>SVC()</pre></div></div></div></div></div></div></div></div></div></div>"
            ]
          },
          "metadata": {},
          "execution_count": 167
        }
      ]
    },
    {
      "cell_type": "code",
      "source": [
        "print(grid.best_estimator_)"
      ],
      "metadata": {
        "colab": {
          "base_uri": "https://localhost:8080/"
        },
        "id": "IPHMIqUFjkbP",
        "outputId": "433dfcf8-4e40-497e-9d23-8134dbee28da"
      },
      "execution_count": null,
      "outputs": [
        {
          "output_type": "stream",
          "name": "stdout",
          "text": [
            "SVC(C=10, class_weight='balanced', gamma=1)\n"
          ]
        }
      ]
    },
    {
      "cell_type": "code",
      "source": [
        "grid_predictions = grid.predict(X_test)"
      ],
      "metadata": {
        "id": "qReWQHBojrsq"
      },
      "execution_count": null,
      "outputs": []
    },
    {
      "cell_type": "code",
      "source": [
        "confusion_matrix(y_test,grid_predictions)"
      ],
      "metadata": {
        "colab": {
          "base_uri": "https://localhost:8080/"
        },
        "id": "E32N33BIjsLD",
        "outputId": "9a98b9ee-fbe0-470d-e964-c8a7981b3730"
      },
      "execution_count": null,
      "outputs": [
        {
          "output_type": "execute_result",
          "data": {
            "text/plain": [
              "array([[2166,  253],\n",
              "       [ 365,  216]])"
            ]
          },
          "metadata": {},
          "execution_count": 170
        }
      ]
    },
    {
      "cell_type": "code",
      "source": [
        "print(classification_report(y_test,grid_predictions))"
      ],
      "metadata": {
        "colab": {
          "base_uri": "https://localhost:8080/"
        },
        "id": "ecW_FbBUjso4",
        "outputId": "bc40b8a6-ac64-41c8-f020-13d7e1a8e291"
      },
      "execution_count": null,
      "outputs": [
        {
          "output_type": "stream",
          "name": "stdout",
          "text": [
            "              precision    recall  f1-score   support\n",
            "\n",
            "           0       0.86      0.90      0.88      2419\n",
            "           1       0.46      0.37      0.41       581\n",
            "\n",
            "    accuracy                           0.79      3000\n",
            "   macro avg       0.66      0.63      0.64      3000\n",
            "weighted avg       0.78      0.79      0.79      3000\n",
            "\n"
          ]
        }
      ]
    },
    {
      "cell_type": "markdown",
      "source": [
        "## **`Model with Random Under Sampling`**"
      ],
      "metadata": {
        "id": "Ljmzz_5GkCDw"
      }
    },
    {
      "cell_type": "code",
      "source": [
        "svc_rus = SVC()"
      ],
      "metadata": {
        "id": "Hz3u3kjlkHWI"
      },
      "execution_count": null,
      "outputs": []
    },
    {
      "cell_type": "code",
      "source": [
        "svc_rus.fit(X_train_rus, y_train_rus)"
      ],
      "metadata": {
        "colab": {
          "base_uri": "https://localhost:8080/",
          "height": 74
        },
        "id": "7Q4GUmKVkHyK",
        "outputId": "449701f1-01df-4b26-c3bc-54900e9bc1ec"
      },
      "execution_count": null,
      "outputs": [
        {
          "output_type": "execute_result",
          "data": {
            "text/plain": [
              "SVC()"
            ],
            "text/html": [
              "<style>#sk-container-id-16 {color: black;background-color: white;}#sk-container-id-16 pre{padding: 0;}#sk-container-id-16 div.sk-toggleable {background-color: white;}#sk-container-id-16 label.sk-toggleable__label {cursor: pointer;display: block;width: 100%;margin-bottom: 0;padding: 0.3em;box-sizing: border-box;text-align: center;}#sk-container-id-16 label.sk-toggleable__label-arrow:before {content: \"▸\";float: left;margin-right: 0.25em;color: #696969;}#sk-container-id-16 label.sk-toggleable__label-arrow:hover:before {color: black;}#sk-container-id-16 div.sk-estimator:hover label.sk-toggleable__label-arrow:before {color: black;}#sk-container-id-16 div.sk-toggleable__content {max-height: 0;max-width: 0;overflow: hidden;text-align: left;background-color: #f0f8ff;}#sk-container-id-16 div.sk-toggleable__content pre {margin: 0.2em;color: black;border-radius: 0.25em;background-color: #f0f8ff;}#sk-container-id-16 input.sk-toggleable__control:checked~div.sk-toggleable__content {max-height: 200px;max-width: 100%;overflow: auto;}#sk-container-id-16 input.sk-toggleable__control:checked~label.sk-toggleable__label-arrow:before {content: \"▾\";}#sk-container-id-16 div.sk-estimator input.sk-toggleable__control:checked~label.sk-toggleable__label {background-color: #d4ebff;}#sk-container-id-16 div.sk-label input.sk-toggleable__control:checked~label.sk-toggleable__label {background-color: #d4ebff;}#sk-container-id-16 input.sk-hidden--visually {border: 0;clip: rect(1px 1px 1px 1px);clip: rect(1px, 1px, 1px, 1px);height: 1px;margin: -1px;overflow: hidden;padding: 0;position: absolute;width: 1px;}#sk-container-id-16 div.sk-estimator {font-family: monospace;background-color: #f0f8ff;border: 1px dotted black;border-radius: 0.25em;box-sizing: border-box;margin-bottom: 0.5em;}#sk-container-id-16 div.sk-estimator:hover {background-color: #d4ebff;}#sk-container-id-16 div.sk-parallel-item::after {content: \"\";width: 100%;border-bottom: 1px solid gray;flex-grow: 1;}#sk-container-id-16 div.sk-label:hover label.sk-toggleable__label {background-color: #d4ebff;}#sk-container-id-16 div.sk-serial::before {content: \"\";position: absolute;border-left: 1px solid gray;box-sizing: border-box;top: 0;bottom: 0;left: 50%;z-index: 0;}#sk-container-id-16 div.sk-serial {display: flex;flex-direction: column;align-items: center;background-color: white;padding-right: 0.2em;padding-left: 0.2em;position: relative;}#sk-container-id-16 div.sk-item {position: relative;z-index: 1;}#sk-container-id-16 div.sk-parallel {display: flex;align-items: stretch;justify-content: center;background-color: white;position: relative;}#sk-container-id-16 div.sk-item::before, #sk-container-id-16 div.sk-parallel-item::before {content: \"\";position: absolute;border-left: 1px solid gray;box-sizing: border-box;top: 0;bottom: 0;left: 50%;z-index: -1;}#sk-container-id-16 div.sk-parallel-item {display: flex;flex-direction: column;z-index: 1;position: relative;background-color: white;}#sk-container-id-16 div.sk-parallel-item:first-child::after {align-self: flex-end;width: 50%;}#sk-container-id-16 div.sk-parallel-item:last-child::after {align-self: flex-start;width: 50%;}#sk-container-id-16 div.sk-parallel-item:only-child::after {width: 0;}#sk-container-id-16 div.sk-dashed-wrapped {border: 1px dashed gray;margin: 0 0.4em 0.5em 0.4em;box-sizing: border-box;padding-bottom: 0.4em;background-color: white;}#sk-container-id-16 div.sk-label label {font-family: monospace;font-weight: bold;display: inline-block;line-height: 1.2em;}#sk-container-id-16 div.sk-label-container {text-align: center;}#sk-container-id-16 div.sk-container {/* jupyter's `normalize.less` sets `[hidden] { display: none; }` but bootstrap.min.css set `[hidden] { display: none !important; }` so we also need the `!important` here to be able to override the default hidden behavior on the sphinx rendered scikit-learn.org. See: https://github.com/scikit-learn/scikit-learn/issues/21755 */display: inline-block !important;position: relative;}#sk-container-id-16 div.sk-text-repr-fallback {display: none;}</style><div id=\"sk-container-id-16\" class=\"sk-top-container\"><div class=\"sk-text-repr-fallback\"><pre>SVC()</pre><b>In a Jupyter environment, please rerun this cell to show the HTML representation or trust the notebook. <br />On GitHub, the HTML representation is unable to render, please try loading this page with nbviewer.org.</b></div><div class=\"sk-container\" hidden><div class=\"sk-item\"><div class=\"sk-estimator sk-toggleable\"><input class=\"sk-toggleable__control sk-hidden--visually\" id=\"sk-estimator-id-26\" type=\"checkbox\" checked><label for=\"sk-estimator-id-26\" class=\"sk-toggleable__label sk-toggleable__label-arrow\">SVC</label><div class=\"sk-toggleable__content\"><pre>SVC()</pre></div></div></div></div></div>"
            ]
          },
          "metadata": {},
          "execution_count": 173
        }
      ]
    },
    {
      "cell_type": "code",
      "source": [
        "y_pred_rus = svc_rus.predict(X_test_rus)"
      ],
      "metadata": {
        "id": "5-Up3X8WkILU"
      },
      "execution_count": null,
      "outputs": []
    },
    {
      "cell_type": "markdown",
      "source": [
        "## **`Model Accuracy`**"
      ],
      "metadata": {
        "id": "7nm8wwXhkXwG"
      }
    },
    {
      "cell_type": "code",
      "source": [
        "confusion_matrix(y_test_rus, y_pred_rus)"
      ],
      "metadata": {
        "colab": {
          "base_uri": "https://localhost:8080/"
        },
        "id": "_9hcfy3EkMhr",
        "outputId": "74e3657e-df5f-4568-c2a1-dab8cea5a824"
      },
      "execution_count": null,
      "outputs": [
        {
          "output_type": "execute_result",
          "data": {
            "text/plain": [
              "array([[483, 120],\n",
              "       [172, 448]])"
            ]
          },
          "metadata": {},
          "execution_count": 175
        }
      ]
    },
    {
      "cell_type": "code",
      "source": [
        "print(classification_report(y_test_rus, y_pred_rus))"
      ],
      "metadata": {
        "colab": {
          "base_uri": "https://localhost:8080/"
        },
        "id": "q94ZOSz5kotr",
        "outputId": "67e2d3f5-0ea9-44d9-a11f-9cec5804e958"
      },
      "execution_count": null,
      "outputs": [
        {
          "output_type": "stream",
          "name": "stdout",
          "text": [
            "              precision    recall  f1-score   support\n",
            "\n",
            "           0       0.74      0.80      0.77       603\n",
            "           1       0.79      0.72      0.75       620\n",
            "\n",
            "    accuracy                           0.76      1223\n",
            "   macro avg       0.76      0.76      0.76      1223\n",
            "weighted avg       0.76      0.76      0.76      1223\n",
            "\n"
          ]
        }
      ]
    },
    {
      "cell_type": "markdown",
      "source": [
        "## **`Hypreparameter Tunning`**"
      ],
      "metadata": {
        "id": "Gq4gteEEktxu"
      }
    },
    {
      "cell_type": "code",
      "source": [
        "param_grid = {'C': [0.1,1, 10],\n",
        "              'gamma': [1,0.1,0.01],\n",
        "             'kernel': ['rbf'],\n",
        "             'class_weight' : ['balanced']}"
      ],
      "metadata": {
        "id": "fy28R1_skyxc"
      },
      "execution_count": null,
      "outputs": []
    },
    {
      "cell_type": "code",
      "source": [
        "grid_rus = GridSearchCV(SVC(),param_grid,refit=True,verbose=2, cv = 2)\n",
        "grid_rus.fit(X_train_rus,y_train_rus)"
      ],
      "metadata": {
        "colab": {
          "base_uri": "https://localhost:8080/",
          "height": 446
        },
        "id": "pH7YDiRpk7uV",
        "outputId": "64e01704-494f-4e59-f40f-70ec155e8ab0"
      },
      "execution_count": null,
      "outputs": [
        {
          "output_type": "stream",
          "name": "stdout",
          "text": [
            "Fitting 2 folds for each of 9 candidates, totalling 18 fits\n",
            "[CV] END ..C=0.1, class_weight=balanced, gamma=1, kernel=rbf; total time=   0.1s\n",
            "[CV] END ..C=0.1, class_weight=balanced, gamma=1, kernel=rbf; total time=   0.1s\n",
            "[CV] END C=0.1, class_weight=balanced, gamma=0.1, kernel=rbf; total time=   0.1s\n",
            "[CV] END C=0.1, class_weight=balanced, gamma=0.1, kernel=rbf; total time=   0.1s\n",
            "[CV] END C=0.1, class_weight=balanced, gamma=0.01, kernel=rbf; total time=   0.1s\n",
            "[CV] END C=0.1, class_weight=balanced, gamma=0.01, kernel=rbf; total time=   0.1s\n",
            "[CV] END ....C=1, class_weight=balanced, gamma=1, kernel=rbf; total time=   0.2s\n",
            "[CV] END ....C=1, class_weight=balanced, gamma=1, kernel=rbf; total time=   0.1s\n",
            "[CV] END ..C=1, class_weight=balanced, gamma=0.1, kernel=rbf; total time=   0.1s\n",
            "[CV] END ..C=1, class_weight=balanced, gamma=0.1, kernel=rbf; total time=   0.1s\n",
            "[CV] END .C=1, class_weight=balanced, gamma=0.01, kernel=rbf; total time=   0.1s\n",
            "[CV] END .C=1, class_weight=balanced, gamma=0.01, kernel=rbf; total time=   0.1s\n",
            "[CV] END ...C=10, class_weight=balanced, gamma=1, kernel=rbf; total time=   0.1s\n",
            "[CV] END ...C=10, class_weight=balanced, gamma=1, kernel=rbf; total time=   0.2s\n",
            "[CV] END .C=10, class_weight=balanced, gamma=0.1, kernel=rbf; total time=   0.1s\n",
            "[CV] END .C=10, class_weight=balanced, gamma=0.1, kernel=rbf; total time=   0.1s\n",
            "[CV] END C=10, class_weight=balanced, gamma=0.01, kernel=rbf; total time=   0.1s\n",
            "[CV] END C=10, class_weight=balanced, gamma=0.01, kernel=rbf; total time=   0.1s\n"
          ]
        },
        {
          "output_type": "execute_result",
          "data": {
            "text/plain": [
              "GridSearchCV(cv=2, estimator=SVC(),\n",
              "             param_grid={'C': [0.1, 1, 10], 'class_weight': ['balanced'],\n",
              "                         'gamma': [1, 0.1, 0.01], 'kernel': ['rbf']},\n",
              "             verbose=2)"
            ],
            "text/html": [
              "<style>#sk-container-id-17 {color: black;background-color: white;}#sk-container-id-17 pre{padding: 0;}#sk-container-id-17 div.sk-toggleable {background-color: white;}#sk-container-id-17 label.sk-toggleable__label {cursor: pointer;display: block;width: 100%;margin-bottom: 0;padding: 0.3em;box-sizing: border-box;text-align: center;}#sk-container-id-17 label.sk-toggleable__label-arrow:before {content: \"▸\";float: left;margin-right: 0.25em;color: #696969;}#sk-container-id-17 label.sk-toggleable__label-arrow:hover:before {color: black;}#sk-container-id-17 div.sk-estimator:hover label.sk-toggleable__label-arrow:before {color: black;}#sk-container-id-17 div.sk-toggleable__content {max-height: 0;max-width: 0;overflow: hidden;text-align: left;background-color: #f0f8ff;}#sk-container-id-17 div.sk-toggleable__content pre {margin: 0.2em;color: black;border-radius: 0.25em;background-color: #f0f8ff;}#sk-container-id-17 input.sk-toggleable__control:checked~div.sk-toggleable__content {max-height: 200px;max-width: 100%;overflow: auto;}#sk-container-id-17 input.sk-toggleable__control:checked~label.sk-toggleable__label-arrow:before {content: \"▾\";}#sk-container-id-17 div.sk-estimator input.sk-toggleable__control:checked~label.sk-toggleable__label {background-color: #d4ebff;}#sk-container-id-17 div.sk-label input.sk-toggleable__control:checked~label.sk-toggleable__label {background-color: #d4ebff;}#sk-container-id-17 input.sk-hidden--visually {border: 0;clip: rect(1px 1px 1px 1px);clip: rect(1px, 1px, 1px, 1px);height: 1px;margin: -1px;overflow: hidden;padding: 0;position: absolute;width: 1px;}#sk-container-id-17 div.sk-estimator {font-family: monospace;background-color: #f0f8ff;border: 1px dotted black;border-radius: 0.25em;box-sizing: border-box;margin-bottom: 0.5em;}#sk-container-id-17 div.sk-estimator:hover {background-color: #d4ebff;}#sk-container-id-17 div.sk-parallel-item::after {content: \"\";width: 100%;border-bottom: 1px solid gray;flex-grow: 1;}#sk-container-id-17 div.sk-label:hover label.sk-toggleable__label {background-color: #d4ebff;}#sk-container-id-17 div.sk-serial::before {content: \"\";position: absolute;border-left: 1px solid gray;box-sizing: border-box;top: 0;bottom: 0;left: 50%;z-index: 0;}#sk-container-id-17 div.sk-serial {display: flex;flex-direction: column;align-items: center;background-color: white;padding-right: 0.2em;padding-left: 0.2em;position: relative;}#sk-container-id-17 div.sk-item {position: relative;z-index: 1;}#sk-container-id-17 div.sk-parallel {display: flex;align-items: stretch;justify-content: center;background-color: white;position: relative;}#sk-container-id-17 div.sk-item::before, #sk-container-id-17 div.sk-parallel-item::before {content: \"\";position: absolute;border-left: 1px solid gray;box-sizing: border-box;top: 0;bottom: 0;left: 50%;z-index: -1;}#sk-container-id-17 div.sk-parallel-item {display: flex;flex-direction: column;z-index: 1;position: relative;background-color: white;}#sk-container-id-17 div.sk-parallel-item:first-child::after {align-self: flex-end;width: 50%;}#sk-container-id-17 div.sk-parallel-item:last-child::after {align-self: flex-start;width: 50%;}#sk-container-id-17 div.sk-parallel-item:only-child::after {width: 0;}#sk-container-id-17 div.sk-dashed-wrapped {border: 1px dashed gray;margin: 0 0.4em 0.5em 0.4em;box-sizing: border-box;padding-bottom: 0.4em;background-color: white;}#sk-container-id-17 div.sk-label label {font-family: monospace;font-weight: bold;display: inline-block;line-height: 1.2em;}#sk-container-id-17 div.sk-label-container {text-align: center;}#sk-container-id-17 div.sk-container {/* jupyter's `normalize.less` sets `[hidden] { display: none; }` but bootstrap.min.css set `[hidden] { display: none !important; }` so we also need the `!important` here to be able to override the default hidden behavior on the sphinx rendered scikit-learn.org. See: https://github.com/scikit-learn/scikit-learn/issues/21755 */display: inline-block !important;position: relative;}#sk-container-id-17 div.sk-text-repr-fallback {display: none;}</style><div id=\"sk-container-id-17\" class=\"sk-top-container\"><div class=\"sk-text-repr-fallback\"><pre>GridSearchCV(cv=2, estimator=SVC(),\n",
              "             param_grid={&#x27;C&#x27;: [0.1, 1, 10], &#x27;class_weight&#x27;: [&#x27;balanced&#x27;],\n",
              "                         &#x27;gamma&#x27;: [1, 0.1, 0.01], &#x27;kernel&#x27;: [&#x27;rbf&#x27;]},\n",
              "             verbose=2)</pre><b>In a Jupyter environment, please rerun this cell to show the HTML representation or trust the notebook. <br />On GitHub, the HTML representation is unable to render, please try loading this page with nbviewer.org.</b></div><div class=\"sk-container\" hidden><div class=\"sk-item sk-dashed-wrapped\"><div class=\"sk-label-container\"><div class=\"sk-label sk-toggleable\"><input class=\"sk-toggleable__control sk-hidden--visually\" id=\"sk-estimator-id-27\" type=\"checkbox\" ><label for=\"sk-estimator-id-27\" class=\"sk-toggleable__label sk-toggleable__label-arrow\">GridSearchCV</label><div class=\"sk-toggleable__content\"><pre>GridSearchCV(cv=2, estimator=SVC(),\n",
              "             param_grid={&#x27;C&#x27;: [0.1, 1, 10], &#x27;class_weight&#x27;: [&#x27;balanced&#x27;],\n",
              "                         &#x27;gamma&#x27;: [1, 0.1, 0.01], &#x27;kernel&#x27;: [&#x27;rbf&#x27;]},\n",
              "             verbose=2)</pre></div></div></div><div class=\"sk-parallel\"><div class=\"sk-parallel-item\"><div class=\"sk-item\"><div class=\"sk-label-container\"><div class=\"sk-label sk-toggleable\"><input class=\"sk-toggleable__control sk-hidden--visually\" id=\"sk-estimator-id-28\" type=\"checkbox\" ><label for=\"sk-estimator-id-28\" class=\"sk-toggleable__label sk-toggleable__label-arrow\">estimator: SVC</label><div class=\"sk-toggleable__content\"><pre>SVC()</pre></div></div></div><div class=\"sk-serial\"><div class=\"sk-item\"><div class=\"sk-estimator sk-toggleable\"><input class=\"sk-toggleable__control sk-hidden--visually\" id=\"sk-estimator-id-29\" type=\"checkbox\" ><label for=\"sk-estimator-id-29\" class=\"sk-toggleable__label sk-toggleable__label-arrow\">SVC</label><div class=\"sk-toggleable__content\"><pre>SVC()</pre></div></div></div></div></div></div></div></div></div></div>"
            ]
          },
          "metadata": {},
          "execution_count": 178
        }
      ]
    },
    {
      "cell_type": "code",
      "source": [
        "print(grid_rus.best_estimator_)"
      ],
      "metadata": {
        "colab": {
          "base_uri": "https://localhost:8080/"
        },
        "id": "UiZe1OWhlFgx",
        "outputId": "bddd3bc0-cc18-4338-8eed-a297ab02c077"
      },
      "execution_count": null,
      "outputs": [
        {
          "output_type": "stream",
          "name": "stdout",
          "text": [
            "SVC(C=10, class_weight='balanced', gamma=0.01)\n"
          ]
        }
      ]
    },
    {
      "cell_type": "code",
      "source": [
        "grid_predictions_rus = grid_rus.predict(X_test_rus)"
      ],
      "metadata": {
        "id": "-08tHlmolHIw"
      },
      "execution_count": null,
      "outputs": []
    },
    {
      "cell_type": "code",
      "source": [
        "confusion_matrix(y_test_rus,grid_predictions_rus)"
      ],
      "metadata": {
        "colab": {
          "base_uri": "https://localhost:8080/"
        },
        "id": "up7w_z1slpDs",
        "outputId": "089ca840-fd46-47ba-e54f-1394ee8994e0"
      },
      "execution_count": null,
      "outputs": [
        {
          "output_type": "execute_result",
          "data": {
            "text/plain": [
              "array([[456, 147],\n",
              "       [161, 459]])"
            ]
          },
          "metadata": {},
          "execution_count": 181
        }
      ]
    },
    {
      "cell_type": "code",
      "source": [
        "print(classification_report(y_test_rus,grid_predictions_rus))"
      ],
      "metadata": {
        "colab": {
          "base_uri": "https://localhost:8080/"
        },
        "id": "YA_0jsuAlpdN",
        "outputId": "17e5f8c2-cb5d-4212-b92c-5c63a2e1999d"
      },
      "execution_count": null,
      "outputs": [
        {
          "output_type": "stream",
          "name": "stdout",
          "text": [
            "              precision    recall  f1-score   support\n",
            "\n",
            "           0       0.74      0.76      0.75       603\n",
            "           1       0.76      0.74      0.75       620\n",
            "\n",
            "    accuracy                           0.75      1223\n",
            "   macro avg       0.75      0.75      0.75      1223\n",
            "weighted avg       0.75      0.75      0.75      1223\n",
            "\n"
          ]
        }
      ]
    },
    {
      "cell_type": "markdown",
      "source": [
        "## **`Model with Random Over Sampling`**"
      ],
      "metadata": {
        "id": "IvsUVK4GlxuD"
      }
    },
    {
      "cell_type": "code",
      "source": [
        "svc_ros = SVC()"
      ],
      "metadata": {
        "id": "b8ZAwgPhl2ie"
      },
      "execution_count": null,
      "outputs": []
    },
    {
      "cell_type": "code",
      "source": [
        "svc_ros.fit(X_train_ros, y_train_ros)"
      ],
      "metadata": {
        "colab": {
          "base_uri": "https://localhost:8080/",
          "height": 74
        },
        "id": "awsUmV0el3Aa",
        "outputId": "fa553cf0-caac-44e3-b2eb-9b6e58aadb23"
      },
      "execution_count": null,
      "outputs": [
        {
          "output_type": "execute_result",
          "data": {
            "text/plain": [
              "SVC()"
            ],
            "text/html": [
              "<style>#sk-container-id-18 {color: black;background-color: white;}#sk-container-id-18 pre{padding: 0;}#sk-container-id-18 div.sk-toggleable {background-color: white;}#sk-container-id-18 label.sk-toggleable__label {cursor: pointer;display: block;width: 100%;margin-bottom: 0;padding: 0.3em;box-sizing: border-box;text-align: center;}#sk-container-id-18 label.sk-toggleable__label-arrow:before {content: \"▸\";float: left;margin-right: 0.25em;color: #696969;}#sk-container-id-18 label.sk-toggleable__label-arrow:hover:before {color: black;}#sk-container-id-18 div.sk-estimator:hover label.sk-toggleable__label-arrow:before {color: black;}#sk-container-id-18 div.sk-toggleable__content {max-height: 0;max-width: 0;overflow: hidden;text-align: left;background-color: #f0f8ff;}#sk-container-id-18 div.sk-toggleable__content pre {margin: 0.2em;color: black;border-radius: 0.25em;background-color: #f0f8ff;}#sk-container-id-18 input.sk-toggleable__control:checked~div.sk-toggleable__content {max-height: 200px;max-width: 100%;overflow: auto;}#sk-container-id-18 input.sk-toggleable__control:checked~label.sk-toggleable__label-arrow:before {content: \"▾\";}#sk-container-id-18 div.sk-estimator input.sk-toggleable__control:checked~label.sk-toggleable__label {background-color: #d4ebff;}#sk-container-id-18 div.sk-label input.sk-toggleable__control:checked~label.sk-toggleable__label {background-color: #d4ebff;}#sk-container-id-18 input.sk-hidden--visually {border: 0;clip: rect(1px 1px 1px 1px);clip: rect(1px, 1px, 1px, 1px);height: 1px;margin: -1px;overflow: hidden;padding: 0;position: absolute;width: 1px;}#sk-container-id-18 div.sk-estimator {font-family: monospace;background-color: #f0f8ff;border: 1px dotted black;border-radius: 0.25em;box-sizing: border-box;margin-bottom: 0.5em;}#sk-container-id-18 div.sk-estimator:hover {background-color: #d4ebff;}#sk-container-id-18 div.sk-parallel-item::after {content: \"\";width: 100%;border-bottom: 1px solid gray;flex-grow: 1;}#sk-container-id-18 div.sk-label:hover label.sk-toggleable__label {background-color: #d4ebff;}#sk-container-id-18 div.sk-serial::before {content: \"\";position: absolute;border-left: 1px solid gray;box-sizing: border-box;top: 0;bottom: 0;left: 50%;z-index: 0;}#sk-container-id-18 div.sk-serial {display: flex;flex-direction: column;align-items: center;background-color: white;padding-right: 0.2em;padding-left: 0.2em;position: relative;}#sk-container-id-18 div.sk-item {position: relative;z-index: 1;}#sk-container-id-18 div.sk-parallel {display: flex;align-items: stretch;justify-content: center;background-color: white;position: relative;}#sk-container-id-18 div.sk-item::before, #sk-container-id-18 div.sk-parallel-item::before {content: \"\";position: absolute;border-left: 1px solid gray;box-sizing: border-box;top: 0;bottom: 0;left: 50%;z-index: -1;}#sk-container-id-18 div.sk-parallel-item {display: flex;flex-direction: column;z-index: 1;position: relative;background-color: white;}#sk-container-id-18 div.sk-parallel-item:first-child::after {align-self: flex-end;width: 50%;}#sk-container-id-18 div.sk-parallel-item:last-child::after {align-self: flex-start;width: 50%;}#sk-container-id-18 div.sk-parallel-item:only-child::after {width: 0;}#sk-container-id-18 div.sk-dashed-wrapped {border: 1px dashed gray;margin: 0 0.4em 0.5em 0.4em;box-sizing: border-box;padding-bottom: 0.4em;background-color: white;}#sk-container-id-18 div.sk-label label {font-family: monospace;font-weight: bold;display: inline-block;line-height: 1.2em;}#sk-container-id-18 div.sk-label-container {text-align: center;}#sk-container-id-18 div.sk-container {/* jupyter's `normalize.less` sets `[hidden] { display: none; }` but bootstrap.min.css set `[hidden] { display: none !important; }` so we also need the `!important` here to be able to override the default hidden behavior on the sphinx rendered scikit-learn.org. See: https://github.com/scikit-learn/scikit-learn/issues/21755 */display: inline-block !important;position: relative;}#sk-container-id-18 div.sk-text-repr-fallback {display: none;}</style><div id=\"sk-container-id-18\" class=\"sk-top-container\"><div class=\"sk-text-repr-fallback\"><pre>SVC()</pre><b>In a Jupyter environment, please rerun this cell to show the HTML representation or trust the notebook. <br />On GitHub, the HTML representation is unable to render, please try loading this page with nbviewer.org.</b></div><div class=\"sk-container\" hidden><div class=\"sk-item\"><div class=\"sk-estimator sk-toggleable\"><input class=\"sk-toggleable__control sk-hidden--visually\" id=\"sk-estimator-id-30\" type=\"checkbox\" checked><label for=\"sk-estimator-id-30\" class=\"sk-toggleable__label sk-toggleable__label-arrow\">SVC</label><div class=\"sk-toggleable__content\"><pre>SVC()</pre></div></div></div></div></div>"
            ]
          },
          "metadata": {},
          "execution_count": 184
        }
      ]
    },
    {
      "cell_type": "code",
      "source": [
        "y_pred_ros = svc_ros.predict(X_test_ros)"
      ],
      "metadata": {
        "id": "e_ovF4cIl3aq"
      },
      "execution_count": null,
      "outputs": []
    },
    {
      "cell_type": "markdown",
      "source": [
        "## **`Model Accuracy`**"
      ],
      "metadata": {
        "id": "GHx7Ssaxl30t"
      }
    },
    {
      "cell_type": "code",
      "source": [
        "confusion_matrix(y_test_ros, y_pred_ros)"
      ],
      "metadata": {
        "colab": {
          "base_uri": "https://localhost:8080/"
        },
        "id": "cD9gAtqgl7Mu",
        "outputId": "11193bc5-59e0-41fb-84a5-0f30ae15830a"
      },
      "execution_count": null,
      "outputs": [
        {
          "output_type": "execute_result",
          "data": {
            "text/plain": [
              "array([[1854,  572],\n",
              "       [ 551, 1801]])"
            ]
          },
          "metadata": {},
          "execution_count": 186
        }
      ]
    },
    {
      "cell_type": "code",
      "source": [
        "print(classification_report(y_test_ros, y_pred_ros))"
      ],
      "metadata": {
        "colab": {
          "base_uri": "https://localhost:8080/"
        },
        "id": "zHA3gWJ8l7lU",
        "outputId": "794810f4-d861-4a2b-e7e6-45aa88400227"
      },
      "execution_count": null,
      "outputs": [
        {
          "output_type": "stream",
          "name": "stdout",
          "text": [
            "              precision    recall  f1-score   support\n",
            "\n",
            "           0       0.77      0.76      0.77      2426\n",
            "           1       0.76      0.77      0.76      2352\n",
            "\n",
            "    accuracy                           0.76      4778\n",
            "   macro avg       0.76      0.76      0.76      4778\n",
            "weighted avg       0.77      0.76      0.76      4778\n",
            "\n"
          ]
        }
      ]
    },
    {
      "cell_type": "markdown",
      "source": [
        "## **`Hypreparameter Tunning`**"
      ],
      "metadata": {
        "id": "E416z5oqmNT-"
      }
    },
    {
      "cell_type": "code",
      "source": [
        "param_grid = {'C': [0.1,1, 10],\n",
        "              'gamma': [1,0.1,0.01],\n",
        "             'kernel': ['rbf'],\n",
        "             'class_weight' : ['balanced']}"
      ],
      "metadata": {
        "id": "5pJO0Q4Kl7_B"
      },
      "execution_count": null,
      "outputs": []
    },
    {
      "cell_type": "code",
      "source": [
        "grid_ros = GridSearchCV(SVC(),param_grid,refit=True, verbose=2,cv=2)\n",
        "grid_ros.fit(X_train_ros,y_train_ros)"
      ],
      "metadata": {
        "colab": {
          "base_uri": "https://localhost:8080/",
          "height": 446
        },
        "id": "agEiHllDl8fK",
        "outputId": "ed28f912-b953-41b2-b643-1c1cf48ee95a"
      },
      "execution_count": null,
      "outputs": [
        {
          "output_type": "stream",
          "name": "stdout",
          "text": [
            "Fitting 2 folds for each of 9 candidates, totalling 18 fits\n",
            "[CV] END ..C=0.1, class_weight=balanced, gamma=1, kernel=rbf; total time=   2.3s\n",
            "[CV] END ..C=0.1, class_weight=balanced, gamma=1, kernel=rbf; total time=   2.3s\n",
            "[CV] END C=0.1, class_weight=balanced, gamma=0.1, kernel=rbf; total time=   1.6s\n",
            "[CV] END C=0.1, class_weight=balanced, gamma=0.1, kernel=rbf; total time=   1.6s\n",
            "[CV] END C=0.1, class_weight=balanced, gamma=0.01, kernel=rbf; total time=   2.0s\n",
            "[CV] END C=0.1, class_weight=balanced, gamma=0.01, kernel=rbf; total time=   2.4s\n",
            "[CV] END ....C=1, class_weight=balanced, gamma=1, kernel=rbf; total time=   1.9s\n",
            "[CV] END ....C=1, class_weight=balanced, gamma=1, kernel=rbf; total time=   1.9s\n",
            "[CV] END ..C=1, class_weight=balanced, gamma=0.1, kernel=rbf; total time=   1.5s\n",
            "[CV] END ..C=1, class_weight=balanced, gamma=0.1, kernel=rbf; total time=   1.4s\n",
            "[CV] END .C=1, class_weight=balanced, gamma=0.01, kernel=rbf; total time=   1.6s\n",
            "[CV] END .C=1, class_weight=balanced, gamma=0.01, kernel=rbf; total time=   2.3s\n",
            "[CV] END ...C=10, class_weight=balanced, gamma=1, kernel=rbf; total time=   1.9s\n",
            "[CV] END ...C=10, class_weight=balanced, gamma=1, kernel=rbf; total time=   1.8s\n",
            "[CV] END .C=10, class_weight=balanced, gamma=0.1, kernel=rbf; total time=   1.6s\n",
            "[CV] END .C=10, class_weight=balanced, gamma=0.1, kernel=rbf; total time=   1.5s\n",
            "[CV] END C=10, class_weight=balanced, gamma=0.01, kernel=rbf; total time=   1.5s\n",
            "[CV] END C=10, class_weight=balanced, gamma=0.01, kernel=rbf; total time=   1.5s\n"
          ]
        },
        {
          "output_type": "execute_result",
          "data": {
            "text/plain": [
              "GridSearchCV(cv=2, estimator=SVC(),\n",
              "             param_grid={'C': [0.1, 1, 10], 'class_weight': ['balanced'],\n",
              "                         'gamma': [1, 0.1, 0.01], 'kernel': ['rbf']},\n",
              "             verbose=2)"
            ],
            "text/html": [
              "<style>#sk-container-id-19 {color: black;background-color: white;}#sk-container-id-19 pre{padding: 0;}#sk-container-id-19 div.sk-toggleable {background-color: white;}#sk-container-id-19 label.sk-toggleable__label {cursor: pointer;display: block;width: 100%;margin-bottom: 0;padding: 0.3em;box-sizing: border-box;text-align: center;}#sk-container-id-19 label.sk-toggleable__label-arrow:before {content: \"▸\";float: left;margin-right: 0.25em;color: #696969;}#sk-container-id-19 label.sk-toggleable__label-arrow:hover:before {color: black;}#sk-container-id-19 div.sk-estimator:hover label.sk-toggleable__label-arrow:before {color: black;}#sk-container-id-19 div.sk-toggleable__content {max-height: 0;max-width: 0;overflow: hidden;text-align: left;background-color: #f0f8ff;}#sk-container-id-19 div.sk-toggleable__content pre {margin: 0.2em;color: black;border-radius: 0.25em;background-color: #f0f8ff;}#sk-container-id-19 input.sk-toggleable__control:checked~div.sk-toggleable__content {max-height: 200px;max-width: 100%;overflow: auto;}#sk-container-id-19 input.sk-toggleable__control:checked~label.sk-toggleable__label-arrow:before {content: \"▾\";}#sk-container-id-19 div.sk-estimator input.sk-toggleable__control:checked~label.sk-toggleable__label {background-color: #d4ebff;}#sk-container-id-19 div.sk-label input.sk-toggleable__control:checked~label.sk-toggleable__label {background-color: #d4ebff;}#sk-container-id-19 input.sk-hidden--visually {border: 0;clip: rect(1px 1px 1px 1px);clip: rect(1px, 1px, 1px, 1px);height: 1px;margin: -1px;overflow: hidden;padding: 0;position: absolute;width: 1px;}#sk-container-id-19 div.sk-estimator {font-family: monospace;background-color: #f0f8ff;border: 1px dotted black;border-radius: 0.25em;box-sizing: border-box;margin-bottom: 0.5em;}#sk-container-id-19 div.sk-estimator:hover {background-color: #d4ebff;}#sk-container-id-19 div.sk-parallel-item::after {content: \"\";width: 100%;border-bottom: 1px solid gray;flex-grow: 1;}#sk-container-id-19 div.sk-label:hover label.sk-toggleable__label {background-color: #d4ebff;}#sk-container-id-19 div.sk-serial::before {content: \"\";position: absolute;border-left: 1px solid gray;box-sizing: border-box;top: 0;bottom: 0;left: 50%;z-index: 0;}#sk-container-id-19 div.sk-serial {display: flex;flex-direction: column;align-items: center;background-color: white;padding-right: 0.2em;padding-left: 0.2em;position: relative;}#sk-container-id-19 div.sk-item {position: relative;z-index: 1;}#sk-container-id-19 div.sk-parallel {display: flex;align-items: stretch;justify-content: center;background-color: white;position: relative;}#sk-container-id-19 div.sk-item::before, #sk-container-id-19 div.sk-parallel-item::before {content: \"\";position: absolute;border-left: 1px solid gray;box-sizing: border-box;top: 0;bottom: 0;left: 50%;z-index: -1;}#sk-container-id-19 div.sk-parallel-item {display: flex;flex-direction: column;z-index: 1;position: relative;background-color: white;}#sk-container-id-19 div.sk-parallel-item:first-child::after {align-self: flex-end;width: 50%;}#sk-container-id-19 div.sk-parallel-item:last-child::after {align-self: flex-start;width: 50%;}#sk-container-id-19 div.sk-parallel-item:only-child::after {width: 0;}#sk-container-id-19 div.sk-dashed-wrapped {border: 1px dashed gray;margin: 0 0.4em 0.5em 0.4em;box-sizing: border-box;padding-bottom: 0.4em;background-color: white;}#sk-container-id-19 div.sk-label label {font-family: monospace;font-weight: bold;display: inline-block;line-height: 1.2em;}#sk-container-id-19 div.sk-label-container {text-align: center;}#sk-container-id-19 div.sk-container {/* jupyter's `normalize.less` sets `[hidden] { display: none; }` but bootstrap.min.css set `[hidden] { display: none !important; }` so we also need the `!important` here to be able to override the default hidden behavior on the sphinx rendered scikit-learn.org. See: https://github.com/scikit-learn/scikit-learn/issues/21755 */display: inline-block !important;position: relative;}#sk-container-id-19 div.sk-text-repr-fallback {display: none;}</style><div id=\"sk-container-id-19\" class=\"sk-top-container\"><div class=\"sk-text-repr-fallback\"><pre>GridSearchCV(cv=2, estimator=SVC(),\n",
              "             param_grid={&#x27;C&#x27;: [0.1, 1, 10], &#x27;class_weight&#x27;: [&#x27;balanced&#x27;],\n",
              "                         &#x27;gamma&#x27;: [1, 0.1, 0.01], &#x27;kernel&#x27;: [&#x27;rbf&#x27;]},\n",
              "             verbose=2)</pre><b>In a Jupyter environment, please rerun this cell to show the HTML representation or trust the notebook. <br />On GitHub, the HTML representation is unable to render, please try loading this page with nbviewer.org.</b></div><div class=\"sk-container\" hidden><div class=\"sk-item sk-dashed-wrapped\"><div class=\"sk-label-container\"><div class=\"sk-label sk-toggleable\"><input class=\"sk-toggleable__control sk-hidden--visually\" id=\"sk-estimator-id-31\" type=\"checkbox\" ><label for=\"sk-estimator-id-31\" class=\"sk-toggleable__label sk-toggleable__label-arrow\">GridSearchCV</label><div class=\"sk-toggleable__content\"><pre>GridSearchCV(cv=2, estimator=SVC(),\n",
              "             param_grid={&#x27;C&#x27;: [0.1, 1, 10], &#x27;class_weight&#x27;: [&#x27;balanced&#x27;],\n",
              "                         &#x27;gamma&#x27;: [1, 0.1, 0.01], &#x27;kernel&#x27;: [&#x27;rbf&#x27;]},\n",
              "             verbose=2)</pre></div></div></div><div class=\"sk-parallel\"><div class=\"sk-parallel-item\"><div class=\"sk-item\"><div class=\"sk-label-container\"><div class=\"sk-label sk-toggleable\"><input class=\"sk-toggleable__control sk-hidden--visually\" id=\"sk-estimator-id-32\" type=\"checkbox\" ><label for=\"sk-estimator-id-32\" class=\"sk-toggleable__label sk-toggleable__label-arrow\">estimator: SVC</label><div class=\"sk-toggleable__content\"><pre>SVC()</pre></div></div></div><div class=\"sk-serial\"><div class=\"sk-item\"><div class=\"sk-estimator sk-toggleable\"><input class=\"sk-toggleable__control sk-hidden--visually\" id=\"sk-estimator-id-33\" type=\"checkbox\" ><label for=\"sk-estimator-id-33\" class=\"sk-toggleable__label sk-toggleable__label-arrow\">SVC</label><div class=\"sk-toggleable__content\"><pre>SVC()</pre></div></div></div></div></div></div></div></div></div></div>"
            ]
          },
          "metadata": {},
          "execution_count": 189
        }
      ]
    },
    {
      "cell_type": "code",
      "source": [
        "print(grid_ros.best_estimator_)"
      ],
      "metadata": {
        "colab": {
          "base_uri": "https://localhost:8080/"
        },
        "id": "NTGxhu2gmhxB",
        "outputId": "c4c828fa-ee39-40f6-c363-4e2a1fbce74f"
      },
      "execution_count": null,
      "outputs": [
        {
          "output_type": "stream",
          "name": "stdout",
          "text": [
            "SVC(C=10, class_weight='balanced', gamma=1)\n"
          ]
        }
      ]
    },
    {
      "cell_type": "code",
      "source": [
        "grid_predictions_ros = grid_ros.predict(X_test_ros)"
      ],
      "metadata": {
        "id": "t9pFIkAPmiJ_"
      },
      "execution_count": null,
      "outputs": []
    },
    {
      "cell_type": "code",
      "source": [
        "confusion_matrix(y_test_ros,grid_predictions_ros)"
      ],
      "metadata": {
        "colab": {
          "base_uri": "https://localhost:8080/"
        },
        "id": "eV4pvVoZmirp",
        "outputId": "555e63cc-fa93-45a7-9672-b65a4b80a068"
      },
      "execution_count": null,
      "outputs": [
        {
          "output_type": "execute_result",
          "data": {
            "text/plain": [
              "array([[2064,  362],\n",
              "       [  75, 2277]])"
            ]
          },
          "metadata": {},
          "execution_count": 192
        }
      ]
    },
    {
      "cell_type": "code",
      "source": [
        "print(classification_report(y_test_ros,grid_predictions_ros))"
      ],
      "metadata": {
        "colab": {
          "base_uri": "https://localhost:8080/"
        },
        "id": "54ruBhYDmjJD",
        "outputId": "f8ab91c8-ab7b-43ea-c50e-274b25da9435"
      },
      "execution_count": null,
      "outputs": [
        {
          "output_type": "stream",
          "name": "stdout",
          "text": [
            "              precision    recall  f1-score   support\n",
            "\n",
            "           0       0.96      0.85      0.90      2426\n",
            "           1       0.86      0.97      0.91      2352\n",
            "\n",
            "    accuracy                           0.91      4778\n",
            "   macro avg       0.91      0.91      0.91      4778\n",
            "weighted avg       0.91      0.91      0.91      4778\n",
            "\n"
          ]
        }
      ]
    },
    {
      "cell_type": "markdown",
      "source": [
        "## **`Lets Compare`**"
      ],
      "metadata": {
        "id": "tP4XSqzMnBVD"
      }
    },
    {
      "cell_type": "code",
      "source": [
        "print(classification_report(y_test, y_pred))"
      ],
      "metadata": {
        "colab": {
          "base_uri": "https://localhost:8080/"
        },
        "id": "9jRtqU-gnEia",
        "outputId": "927e4dcf-a0e1-4efb-9346-1b59db682419"
      },
      "execution_count": null,
      "outputs": [
        {
          "output_type": "stream",
          "name": "stdout",
          "text": [
            "              precision    recall  f1-score   support\n",
            "\n",
            "           0       0.85      0.98      0.91      2419\n",
            "           1       0.78      0.28      0.41       581\n",
            "\n",
            "    accuracy                           0.84      3000\n",
            "   macro avg       0.81      0.63      0.66      3000\n",
            "weighted avg       0.84      0.84      0.81      3000\n",
            "\n"
          ]
        }
      ]
    },
    {
      "cell_type": "code",
      "source": [
        "print (classification_report(y_test,grid_predictions))"
      ],
      "metadata": {
        "colab": {
          "base_uri": "https://localhost:8080/"
        },
        "id": "rmT19dx-nKHK",
        "outputId": "f2c213da-ca82-4c5f-d873-75375b94d067"
      },
      "execution_count": null,
      "outputs": [
        {
          "output_type": "stream",
          "name": "stdout",
          "text": [
            "              precision    recall  f1-score   support\n",
            "\n",
            "           0       0.86      0.90      0.88      2419\n",
            "           1       0.46      0.37      0.41       581\n",
            "\n",
            "    accuracy                           0.79      3000\n",
            "   macro avg       0.66      0.63      0.64      3000\n",
            "weighted avg       0.78      0.79      0.79      3000\n",
            "\n"
          ]
        }
      ]
    },
    {
      "cell_type": "code",
      "source": [
        "print (classification_report(y_test,grid_predictions))"
      ],
      "metadata": {
        "colab": {
          "base_uri": "https://localhost:8080/"
        },
        "id": "crSwbBwcnKol",
        "outputId": "e7753d53-495e-48f9-bf4a-916b8df6aaa6"
      },
      "execution_count": null,
      "outputs": [
        {
          "output_type": "stream",
          "name": "stdout",
          "text": [
            "              precision    recall  f1-score   support\n",
            "\n",
            "           0       0.86      0.90      0.88      2419\n",
            "           1       0.46      0.37      0.41       581\n",
            "\n",
            "    accuracy                           0.79      3000\n",
            "   macro avg       0.66      0.63      0.64      3000\n",
            "weighted avg       0.78      0.79      0.79      3000\n",
            "\n"
          ]
        }
      ]
    },
    {
      "cell_type": "code",
      "source": [
        "print(classification_report(y_test_rus, y_pred_rus))"
      ],
      "metadata": {
        "colab": {
          "base_uri": "https://localhost:8080/"
        },
        "id": "5lZohvmanW-w",
        "outputId": "55bc47a8-a07d-498a-ca25-b35a2ab5754c"
      },
      "execution_count": null,
      "outputs": [
        {
          "output_type": "stream",
          "name": "stdout",
          "text": [
            "              precision    recall  f1-score   support\n",
            "\n",
            "           0       0.74      0.80      0.77       603\n",
            "           1       0.79      0.72      0.75       620\n",
            "\n",
            "    accuracy                           0.76      1223\n",
            "   macro avg       0.76      0.76      0.76      1223\n",
            "weighted avg       0.76      0.76      0.76      1223\n",
            "\n"
          ]
        }
      ]
    },
    {
      "cell_type": "code",
      "source": [
        "print(classification_report(y_test_rus,grid_predictions_rus))"
      ],
      "metadata": {
        "colab": {
          "base_uri": "https://localhost:8080/"
        },
        "id": "gFan8Q5inetR",
        "outputId": "f4038576-4ac9-4396-e977-1528fe271e25"
      },
      "execution_count": null,
      "outputs": [
        {
          "output_type": "stream",
          "name": "stdout",
          "text": [
            "              precision    recall  f1-score   support\n",
            "\n",
            "           0       0.74      0.76      0.75       603\n",
            "           1       0.76      0.74      0.75       620\n",
            "\n",
            "    accuracy                           0.75      1223\n",
            "   macro avg       0.75      0.75      0.75      1223\n",
            "weighted avg       0.75      0.75      0.75      1223\n",
            "\n"
          ]
        }
      ]
    },
    {
      "cell_type": "code",
      "source": [
        "print(classification_report(y_test_ros, y_pred_ros))"
      ],
      "metadata": {
        "colab": {
          "base_uri": "https://localhost:8080/"
        },
        "id": "LbiUyolqnl0V",
        "outputId": "8a26166c-1a73-40b2-89b0-c8cbabeb6fdf"
      },
      "execution_count": null,
      "outputs": [
        {
          "output_type": "stream",
          "name": "stdout",
          "text": [
            "              precision    recall  f1-score   support\n",
            "\n",
            "           0       0.77      0.76      0.77      2426\n",
            "           1       0.76      0.77      0.76      2352\n",
            "\n",
            "    accuracy                           0.76      4778\n",
            "   macro avg       0.76      0.76      0.76      4778\n",
            "weighted avg       0.77      0.76      0.76      4778\n",
            "\n"
          ]
        }
      ]
    }
  ],
  "metadata": {
    "colab": {
      "provenance": [],
      "include_colab_link": true
    },
    "kernelspec": {
      "display_name": "Python 3",
      "name": "python3"
    },
    "language_info": {
      "name": "python"
    }
  },
  "nbformat": 4,
  "nbformat_minor": 0
}